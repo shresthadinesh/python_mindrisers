{
 "cells": [
  {
   "cell_type": "markdown",
   "id": "2806e1cc-4aba-4bd5-84c9-15e6e450e3cd",
   "metadata": {},
   "source": [
    "### This folder is used for the Python Practice for W3 school "
   ]
  },
  {
   "cell_type": "markdown",
   "id": "0eed3b32-919d-4361-9aaf-14778b2f4587",
   "metadata": {},
   "source": [
    "# Python Booleans"
   ]
  },
  {
   "cell_type": "code",
   "execution_count": 3,
   "id": "6d4a0352-b2e6-4a15-af7f-4f9131c9d939",
   "metadata": {},
   "outputs": [
    {
     "data": {
      "text/plain": [
       "False"
      ]
     },
     "execution_count": 3,
     "metadata": {},
     "output_type": "execute_result"
    }
   ],
   "source": [
    "bool(False)\n",
    "bool(None)\n",
    "bool('')\n",
    "bool(\"\")\n",
    "bool(0)\n",
    "bool([])\n",
    "bool({})\n",
    "bool(())  \n",
    "\n",
    "# Almost any value is evaluated to True if it has some sort of content."
   ]
  },
  {
   "cell_type": "code",
   "execution_count": 4,
   "id": "3687c91f-96f0-4a81-add2-2656a22ee910",
   "metadata": {},
   "outputs": [
    {
     "name": "stdout",
     "output_type": "stream",
     "text": [
      "True\n"
     ]
    }
   ],
   "source": [
    "# function can return Boolean \n",
    "\n",
    "def myFunction():\n",
    "    return True\n",
    "\n",
    "print(myFunction())"
   ]
  },
  {
   "cell_type": "code",
   "execution_count": 5,
   "id": "05c9769d-9e2e-4a8f-bc5b-c41d87dae0db",
   "metadata": {},
   "outputs": [
    {
     "name": "stdout",
     "output_type": "stream",
     "text": [
      "Yes\n"
     ]
    }
   ],
   "source": [
    "def myFunction():\n",
    "    return True\n",
    "\n",
    "if myFunction():\n",
    "    print(\"Yes\")\n",
    "\n",
    "else:\n",
    "    print(\"No\")"
   ]
  },
  {
   "cell_type": "code",
   "execution_count": 6,
   "id": "811426be-027c-41b8-85d1-7fc6d8bb4c28",
   "metadata": {},
   "outputs": [
    {
     "name": "stdout",
     "output_type": "stream",
     "text": [
      "True\n"
     ]
    }
   ],
   "source": [
    "# Python also has many built-in functions that return a boolean value, like the isinstance() function, which can be used to determine if an object is of a certain data type:\n",
    "\n",
    "x = 200\n",
    "print(isinstance(x, int))"
   ]
  },
  {
   "cell_type": "code",
   "execution_count": 7,
   "id": "acb83153-a6c1-43d8-81cd-1835e64897e1",
   "metadata": {},
   "outputs": [
    {
     "name": "stdout",
     "output_type": "stream",
     "text": [
      "<class 'str'>\n",
      "True\n"
     ]
    }
   ],
   "source": [
    "y = \"Hello\"\n",
    "print(type(y))\n",
    "print(isinstance(y, str))"
   ]
  },
  {
   "cell_type": "markdown",
   "id": "28747dd9-1ff3-440b-968c-94d254d022b6",
   "metadata": {},
   "source": [
    "# Python Operator"
   ]
  },
  {
   "cell_type": "code",
   "execution_count": 9,
   "id": "27d4a6d4-970c-45c1-9b2f-532ed39342a7",
   "metadata": {},
   "outputs": [],
   "source": [
    "# Python divides the operators in the following groups:\n",
    "\n",
    "# Arithmetic operators\n",
    "# Assignment operators\n",
    "# Comparison operators\n",
    "# Logical operators\n",
    "# Identity operators\n",
    "# Membership operators\n",
    "# Bitwise operators "
   ]
  },
  {
   "cell_type": "code",
   "execution_count": 10,
   "id": "65efb918-aff2-41c4-bee5-553b59e75e70",
   "metadata": {},
   "outputs": [
    {
     "name": "stdout",
     "output_type": "stream",
     "text": [
      "True\n"
     ]
    }
   ],
   "source": [
    "x = 5\n",
    "print(x<10 and x>3)"
   ]
  },
  {
   "cell_type": "code",
   "execution_count": 11,
   "id": "c85a6b0d-88f9-4fdf-8b92-1e177ec54ce5",
   "metadata": {},
   "outputs": [
    {
     "name": "stdout",
     "output_type": "stream",
     "text": [
      "False\n"
     ]
    }
   ],
   "source": [
    "y = 10\n",
    "print(not(x<10 and x>3))"
   ]
  },
  {
   "cell_type": "code",
   "execution_count": 12,
   "id": "0a97e1f7-b2cc-4cee-92d2-eb1e35769184",
   "metadata": {},
   "outputs": [
    {
     "name": "stdout",
     "output_type": "stream",
     "text": [
      "True\n",
      "False\n",
      "True\n",
      "False\n"
     ]
    }
   ],
   "source": [
    "# Identity Operator\n",
    "# Identity operators are used to compare the objects, not if they are equal, but if they are actually the same object, with the same memory location:\n",
    "\n",
    "x = [\"apple\", \"banana\"]\n",
    "y = [\"apple\", \"banana\"]\n",
    "z = x \n",
    "print(x is z)\n",
    "# returns True because z is the same object as x\n",
    "print(y is z)\n",
    "# returns False because x is not the same object as y, even if they have the same content\n",
    "print(x == y)\n",
    "# to demonstrate the difference betweeen \"is\" and \"==\": this comparison returns True because x is equal to y\n",
    "print( x is y)"
   ]
  },
  {
   "cell_type": "code",
   "execution_count": 13,
   "id": "6a97db45-90b7-4974-8900-3bf578ae2682",
   "metadata": {},
   "outputs": [
    {
     "name": "stdout",
     "output_type": "stream",
     "text": [
      "False\n",
      "True\n",
      "False\n"
     ]
    }
   ],
   "source": [
    "x = [\"apple\", \"banana\"]\n",
    "y = [\"apple\", \"banana\"]\n",
    "z = x \n",
    "print( x is not z)\n",
    "# returns False because z is the same object as x\n",
    "print( y is not z)\n",
    "# returns True because x is not the same object as y, even if they have the same content\n",
    "print( x != y)\n",
    "# to demonstrate the difference betweeen \"is not\" and \"!=\": this comparison returns False because x is equal to y"
   ]
  },
  {
   "cell_type": "code",
   "execution_count": 14,
   "id": "79913a64-0c9b-4822-b760-6fd824b6aa42",
   "metadata": {},
   "outputs": [
    {
     "name": "stdout",
     "output_type": "stream",
     "text": [
      "True\n",
      "True\n",
      "False\n"
     ]
    }
   ],
   "source": [
    "# Membership Operator\n",
    "# Membership operators are used to test if a sequence is presented in an object:\n",
    "\n",
    "x = ['apple', 'banana', 'mango']\n",
    "print('banana'  in x)\n",
    "# returns True because a sequence with the value \"banana\" is in the list\n",
    "print('orange' not in x)\n",
    "# returns True because a sequence with the value \"orange\" is not in the list\n",
    "print('pineappe' in x)"
   ]
  },
  {
   "cell_type": "code",
   "execution_count": 15,
   "id": "f4e60feb-e124-4dff-8abd-dde8dcf42f42",
   "metadata": {},
   "outputs": [
    {
     "name": "stdout",
     "output_type": "stream",
     "text": [
      "5\n"
     ]
    },
    {
     "data": {
      "text/plain": [
       "'\\nThe ^ operator compares each bit and set it to 1 if only one is 1, otherwise (if both are 1 or both are 0) it is set to 0:\\n\\n6 = 0000000000000110\\n3 = 0000000000000011\\n--------------------\\n5 = 0000000000000101\\n====================\\n\\nDecimal numbers and their binary values:\\n0 = 0000000000000000\\n1 = 0000000000000001\\n2 = 0000000000000010\\n3 = 0000000000000011\\n4 = 0000000000000100\\n5 = 0000000000000101\\n6 = 0000000000000110\\n7 = 0000000000000111\\n'"
      ]
     },
     "execution_count": 15,
     "metadata": {},
     "output_type": "execute_result"
    }
   ],
   "source": [
    "# Bitwise Operator\n",
    "# Bitwise operators are used to compare (binary) numbers:\n",
    "\n",
    "print(6 ^ 3)\n",
    "\n",
    "\n",
    "\n",
    "\"\"\"\n",
    "The ^ operator compares each bit and set it to 1 if only one is 1, otherwise (if both are 1 or both are 0) it is set to 0:\n",
    "\n",
    "6 = 0000000000000110\n",
    "3 = 0000000000000011\n",
    "--------------------\n",
    "5 = 0000000000000101\n",
    "====================\n",
    "\n",
    "Decimal numbers and their binary values:\n",
    "0 = 0000000000000000\n",
    "1 = 0000000000000001\n",
    "2 = 0000000000000010\n",
    "3 = 0000000000000011\n",
    "4 = 0000000000000100\n",
    "5 = 0000000000000101\n",
    "6 = 0000000000000110\n",
    "7 = 0000000000000111\n",
    "\"\"\"\n"
   ]
  },
  {
   "cell_type": "code",
   "execution_count": 16,
   "id": "729ffb2b-602d-4fd8-90eb-a18e723943b7",
   "metadata": {},
   "outputs": [
    {
     "name": "stdout",
     "output_type": "stream",
     "text": [
      "5\n"
     ]
    },
    {
     "data": {
      "text/plain": [
       "'\\nAdditions and subtractions have the same precedence, and we need to calculate from left to right.\\nThe calculation above reads:\\n5 + 4 = 9\\n9 - 7 = 2\\n2 + 3 = 5\\n'"
      ]
     },
     "execution_count": 16,
     "metadata": {},
     "output_type": "execute_result"
    }
   ],
   "source": [
    "# Operator Precedence\n",
    "# Operator precedence describes the order in which operations are performed.\n",
    "\n",
    "print(5 + 4 - 7 + 3)\n",
    "\n",
    "\"\"\"\n",
    "Additions and subtractions have the same precedence, and we need to calculate from left to right.\n",
    "The calculation above reads:\n",
    "5 + 4 = 9\n",
    "9 - 7 = 2\n",
    "2 + 3 = 5\n",
    "\"\"\"\n"
   ]
  },
  {
   "cell_type": "markdown",
   "id": "7b922345-1f5c-4526-9941-6ef92494fb82",
   "metadata": {},
   "source": [
    "# Python List"
   ]
  },
  {
   "cell_type": "code",
   "execution_count": 18,
   "id": "d80ed677-94fe-46ed-8bae-32185633e5de",
   "metadata": {},
   "outputs": [
    {
     "name": "stdout",
     "output_type": "stream",
     "text": [
      "['apple', 'banana', 'orange', 'mango', 'apple', 'mango']\n",
      "<class 'list'>\n",
      "6\n"
     ]
    }
   ],
   "source": [
    "# Lists are used to store multiple items in a single variable.\n",
    "# Lists are one of 4 built-in data types in Python used to store collections of data, the other 3 are Tuple, Set, and Dictionary, all with different qualities and usage.\n",
    "# Lists are created using square brackets:\n",
    "# List items are ordered, changeable, and allow duplicate values.\n",
    "# List items are indexed, the first item has index [0], the second item has index [1] etc.\n",
    "# When we say that lists are ordered, it means that the items have a defined order, and that order will not change.\n",
    "# If you add new items to a list, the new items will be placed at the end of the list.\n",
    "# The list is changeable, meaning that we can change, add, and remove items in a list after it has been created.\n",
    "# Allow Duplicates\n",
    "# Since lists are indexed, lists can have items with the same value:\n",
    "\n",
    "list1 = ['apple','banana','orange','mango','apple', 'mango']\n",
    "list2 = [1, 2, 3, 4, 5]\n",
    "list3 = [True, False, False, True]\n",
    "list4 = ['Hello', 22, 'Dinesh', 'kathmandu', True]\n",
    "\n",
    "print(list1)\n",
    "print(type(list4))\n",
    "print(len(list1))"
   ]
  },
  {
   "cell_type": "code",
   "execution_count": 19,
   "id": "e619635d-3a53-4f51-bc25-9e63145197f3",
   "metadata": {},
   "outputs": [
    {
     "name": "stdout",
     "output_type": "stream",
     "text": [
      "['Dinesh', 'Shrestha', 22, 'male', True]\n"
     ]
    }
   ],
   "source": [
    "# The list() Constructor\n",
    "# It is also possible to use the list() constructor when creating a new list.\n",
    "\n",
    "myList = list(('Dinesh', 'Shrestha', 22, 'male', True))    # Note that double rounded brackets\n",
    "print(myList)"
   ]
  },
  {
   "cell_type": "code",
   "execution_count": 20,
   "id": "a756b1a8-b46c-4e69-9386-a4faf74f30f1",
   "metadata": {},
   "outputs": [
    {
     "data": {
      "text/plain": [
       "'\\nPython Collections (Arrays)\\nThere are four collection data types in the Python programming language:\\n\\nList is a collection which is ordered and changeable. Allows duplicate members.\\nTuple is a collection which is ordered and unchangeable. Allows duplicate members.\\nSet is a collection which is unordered, unchangeable*, and unindexed. No duplicate members.\\nDictionary is a collection which is ordered** and changeable. No duplicate members.\\n'"
      ]
     },
     "execution_count": 20,
     "metadata": {},
     "output_type": "execute_result"
    }
   ],
   "source": [
    "'''\n",
    "Python Collections (Arrays)\n",
    "There are four collection data types in the Python programming language:\n",
    "\n",
    "List is a collection which is ordered and changeable. Allows duplicate members.\n",
    "Tuple is a collection which is ordered and unchangeable. Allows duplicate members.\n",
    "Set is a collection which is unordered, unchangeable*, and unindexed. No duplicate members.\n",
    "Dictionary is a collection which is ordered** and changeable. No duplicate members.\n",
    "'''\n"
   ]
  },
  {
   "cell_type": "code",
   "execution_count": 21,
   "id": "145aa790-9b76-470e-a170-73645a56d2a0",
   "metadata": {},
   "outputs": [
    {
     "name": "stdout",
     "output_type": "stream",
     "text": [
      "banana\n",
      "cherry\n"
     ]
    }
   ],
   "source": [
    "thislist = [\"apple\", \"banana\", \"cherry\",\"Orange\"]\n",
    "print(thislist[1])\n",
    "# List items are indexed and you can access them by referring to the index number:\n",
    "print(thislist[-2])\n",
    "# -1 refers to the last item, -2 refers to the second last item etc.\n"
   ]
  },
  {
   "cell_type": "code",
   "execution_count": 22,
   "id": "4c21ca9e-bc62-45e5-84af-f0868b54e112",
   "metadata": {},
   "outputs": [
    {
     "name": "stdout",
     "output_type": "stream",
     "text": [
      "['cherry', 'orange', 'kiwi', 'melon']\n",
      "['apple', 'banana', 'cherry']\n",
      "['cherry', 'orange', 'kiwi', 'melon', 'mango']\n"
     ]
    }
   ],
   "source": [
    "'''\n",
    "Range of Indexes\n",
    "You can specify a range of indexes by specifying where to start and where to end the range.\n",
    "\n",
    "When specifying a range, the return value will be a new list with the specified items.\n",
    "'''\n",
    "\n",
    "thislist = [\"apple\", \"banana\", \"cherry\", \"orange\", \"kiwi\", \"melon\", \"mango\"]\n",
    "print(thislist[2:6])\n",
    "# The search will start at index 2 (included) and end at index 6 (not included).\n",
    "print(thislist[:3])\n",
    "# #This will return the items from index 0 to index 3.\n",
    "print(thislist[2:])\n",
    "# #This will return the items from index 2 to the end.\n"
   ]
  },
  {
   "cell_type": "code",
   "execution_count": 23,
   "id": "d86ca3d6-65c4-4651-8704-fecaeb37c53f",
   "metadata": {},
   "outputs": [
    {
     "name": "stdout",
     "output_type": "stream",
     "text": [
      "['orange', 'kiwi', 'melon']\n"
     ]
    }
   ],
   "source": [
    "'''\n",
    "Range of Negative Indexes\n",
    "Specify negative indexes if you want to start the search from the end of the list:\n",
    "'''\n",
    "\n",
    "thislist = [\"apple\", \"banana\", \"cherry\", \"orange\", \"kiwi\", \"melon\", \"mango\"]\n",
    "print(thislist[-4:-1])\n",
    "# #Negative indexing means starting from the end of the list.\n",
    "#This example returns the items from index -4 (included) to index -1 (excluded)\n",
    "#Remember that the last item has the index -1,"
   ]
  },
  {
   "cell_type": "code",
   "execution_count": 24,
   "id": "37d351b1-f5ee-460e-80be-3caaa31fac0e",
   "metadata": {},
   "outputs": [
    {
     "name": "stdout",
     "output_type": "stream",
     "text": [
      "apple is in thislist\n"
     ]
    }
   ],
   "source": [
    "'''\n",
    "Check if Item Exists\n",
    "To determine if a specified item is present in a list use the in keyword:\n",
    "'''\n",
    "\n",
    "thislist = [\"apple\", \"banana\", \"cherry\", \"orange\", \"kiwi\", \"melon\", \"mango\"]\n",
    "if \"apple\" in thislist:\n",
    "    print('apple is in thislist')"
   ]
  },
  {
   "cell_type": "code",
   "execution_count": 46,
   "id": "e8ec1864-2dd7-4c0b-bf7c-dc068310f711",
   "metadata": {},
   "outputs": [
    {
     "data": {
      "text/plain": [
       "['apple', 'banana', 'cherry', 'orange', 'kiwi', 'melon', 'mango']"
      ]
     },
     "execution_count": 46,
     "metadata": {},
     "output_type": "execute_result"
    }
   ],
   "source": [
    "thislist"
   ]
  },
  {
   "cell_type": "code",
   "execution_count": null,
   "id": "4f1df03a-3a11-40ad-9555-8fe8a6bfa718",
   "metadata": {},
   "outputs": [],
   "source": []
  }
 ],
 "metadata": {
  "kernelspec": {
   "display_name": "Python 3 (ipykernel)",
   "language": "python",
   "name": "python3"
  },
  "language_info": {
   "codemirror_mode": {
    "name": "ipython",
    "version": 3
   },
   "file_extension": ".py",
   "mimetype": "text/x-python",
   "name": "python",
   "nbconvert_exporter": "python",
   "pygments_lexer": "ipython3",
   "version": "3.12.4"
  },
  "widgets": {
   "application/vnd.jupyter.widget-state+json": {
    "state": {},
    "version_major": 2,
    "version_minor": 0
   }
  }
 },
 "nbformat": 4,
 "nbformat_minor": 5
}
