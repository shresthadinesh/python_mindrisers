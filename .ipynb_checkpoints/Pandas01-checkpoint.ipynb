{
 "cells": [
  {
   "cell_type": "markdown",
   "id": "ade47788-b96d-4cc4-936b-b114ec89daad",
   "metadata": {},
   "source": [
    "# Data Manupulation with Pandas"
   ]
  },
  {
   "cell_type": "code",
   "execution_count": 2,
   "id": "e05c3aa7-aa42-47a5-a4df-9c88b5bf64a1",
   "metadata": {},
   "outputs": [
    {
     "data": {
      "text/plain": [
       "'\\nPandas is a package built on top of NumPy, and provides an efficient implementation of a\\n DataFrame. DataFrames are multi-dimensional arrays with attached row and column labels, often\\n with heterogeneous types and/or missing data.\\n Pandas, and it’s Series and DataFrame objects, builds on the NumPy array structure and provides\\n efficient access to data cleaning tasks that occupy much of a data scientist’s time\\n\\n  Pandas Objects\\n There are 3 fundamental Pandas data structures:\\n • Series\\n • DataFrame\\n • Index\\n\\n'"
      ]
     },
     "execution_count": 2,
     "metadata": {},
     "output_type": "execute_result"
    }
   ],
   "source": [
    "'''\n",
    "Pandas is a package built on top of NumPy, and provides an efficient implementation of a\n",
    " DataFrame. DataFrames are multi-dimensional arrays with attached row and column labels, often\n",
    " with heterogeneous types and/or missing data.\n",
    " Pandas, and it’s Series and DataFrame objects, builds on the NumPy array structure and provides\n",
    " efficient access to data cleaning tasks that occupy much of a data scientist’s time\n",
    "\n",
    "  Pandas Objects\n",
    " There are 3 fundamental Pandas data structures:\n",
    " • Series\n",
    " • DataFrame\n",
    " • Index\n",
    "\n",
    "'''"
   ]
  },
  {
   "cell_type": "markdown",
   "id": "c27a7fca-5d5b-4640-9115-159a967ff258",
   "metadata": {},
   "source": [
    "## Pandas Series Object"
   ]
  },
  {
   "cell_type": "code",
   "execution_count": 4,
   "id": "99afcc09-59af-47ad-a197-c2a5c6c11ab5",
   "metadata": {},
   "outputs": [
    {
     "data": {
      "text/plain": [
       "array([0.25, 0.5 , 0.75, 1.  ])"
      ]
     },
     "execution_count": 4,
     "metadata": {},
     "output_type": "execute_result"
    }
   ],
   "source": [
    "import numpy as np\n",
    "data = np.array([0.25, 0.5, 0.75, 1.0])\n",
    "data"
   ]
  },
  {
   "cell_type": "code",
   "execution_count": 5,
   "id": "e23c383d-a7a8-4c54-a79e-42feec05dd0e",
   "metadata": {},
   "outputs": [
    {
     "data": {
      "text/plain": [
       "0    0.25\n",
       "1    0.50\n",
       "2    0.75\n",
       "3    1.00\n",
       "dtype: float64"
      ]
     },
     "execution_count": 5,
     "metadata": {},
     "output_type": "execute_result"
    }
   ],
   "source": [
    "import pandas as pd\n",
    "data = pd.Series([0.25, 0.5, 0.75, 1.0])\n",
    "data"
   ]
  },
  {
   "cell_type": "code",
   "execution_count": 6,
   "id": "ea96e66e-e7ff-4ff7-b5e5-8596ed978b9e",
   "metadata": {},
   "outputs": [
    {
     "data": {
      "text/plain": [
       "pandas.core.series.Series"
      ]
     },
     "execution_count": 6,
     "metadata": {},
     "output_type": "execute_result"
    }
   ],
   "source": [
    "type(data)"
   ]
  },
  {
   "cell_type": "code",
   "execution_count": 7,
   "id": "af579ee0-a04f-44a4-b7a0-a7ac279fa583",
   "metadata": {},
   "outputs": [
    {
     "data": {
      "text/plain": [
       "array([0.25, 0.5 , 0.75, 1.  ])"
      ]
     },
     "execution_count": 7,
     "metadata": {},
     "output_type": "execute_result"
    }
   ],
   "source": [
    " data.values # accessing values of the Series"
   ]
  },
  {
   "cell_type": "code",
   "execution_count": 8,
   "id": "cad0d846-0ae8-49d1-9439-55999e0ee113",
   "metadata": {},
   "outputs": [
    {
     "data": {
      "text/plain": [
       "'\\n Series as generalized NumPy Array\\n While Series looks just like regular NumPy array, the essential difference is that\\n • NumPy array has implicitly defined integer indices\\n • Pandas Series has explicitly defined integer indices associated with the values\\n The explicit index gives the Series object additional capabilites. For instance, the index does not\\n need to be an integer, but can be values of any data type.\\n For example, we can use string as index in Series.\\n '"
      ]
     },
     "execution_count": 8,
     "metadata": {},
     "output_type": "execute_result"
    }
   ],
   "source": [
    "'''\n",
    " Series as generalized NumPy Array\n",
    " While Series looks just like regular NumPy array, the essential difference is that\n",
    " • NumPy array has implicitly defined integer indices\n",
    " • Pandas Series has explicitly defined integer indices associated with the values\n",
    " The explicit index gives the Series object additional capabilites. For instance, the index does not\n",
    " need to be an integer, but can be values of any data type.\n",
    " For example, we can use string as index in Series.\n",
    " '''"
   ]
  },
  {
   "cell_type": "code",
   "execution_count": 9,
   "id": "ab66d5c6-1c2e-4756-ab3e-077adc2d8e55",
   "metadata": {},
   "outputs": [
    {
     "data": {
      "text/plain": [
       "1    0.25\n",
       "2    0.50\n",
       "3    0.75\n",
       "4    1.00\n",
       "dtype: float64"
      ]
     },
     "execution_count": 9,
     "metadata": {},
     "output_type": "execute_result"
    }
   ],
   "source": [
    "data = pd.Series([0.25, 0.5, 0.75, 1.0], index=['1', '2', '3', '4'])\n",
    "data"
   ]
  },
  {
   "cell_type": "code",
   "execution_count": 10,
   "id": "4e4e0ec9-efe4-416a-9ec1-67bf2128e535",
   "metadata": {},
   "outputs": [
    {
     "data": {
      "text/plain": [
       "a    0.25\n",
       "b    0.50\n",
       "c    0.75\n",
       "d    1.00\n",
       "dtype: float64"
      ]
     },
     "execution_count": 10,
     "metadata": {},
     "output_type": "execute_result"
    }
   ],
   "source": [
    "data = pd.Series([0.25, 0.5, 0.75, 1.0], index=['a', 'b', 'c', 'd'])\n",
    "data"
   ]
  },
  {
   "cell_type": "code",
   "execution_count": 11,
   "id": "758ab6a9-b446-4efa-8193-e9d73d8cdb32",
   "metadata": {},
   "outputs": [
    {
     "data": {
      "text/plain": [
       "np.float64(0.25)"
      ]
     },
     "execution_count": 11,
     "metadata": {},
     "output_type": "execute_result"
    }
   ],
   "source": [
    "data['a']  # accessing value using string index"
   ]
  },
  {
   "cell_type": "code",
   "execution_count": 12,
   "id": "e69bfdd3-bd21-46e4-beb4-0b36c7653f65",
   "metadata": {},
   "outputs": [
    {
     "data": {
      "text/plain": [
       "'\\n Series as specialized dictionary\\n Since you can use any data type as index, Pandas Series can be thought of as a specialized dictionary.\\n Let’s construct a Series object directly from a Python dictionary.\\n '"
      ]
     },
     "execution_count": 12,
     "metadata": {},
     "output_type": "execute_result"
    }
   ],
   "source": [
    "'''\n",
    " Series as specialized dictionary\n",
    " Since you can use any data type as index, Pandas Series can be thought of as a specialized dictionary.\n",
    " Let’s construct a Series object directly from a Python dictionary.\n",
    " '''"
   ]
  },
  {
   "cell_type": "code",
   "execution_count": 13,
   "id": "6f76f283-b249-406d-823c-0bf053da3db0",
   "metadata": {},
   "outputs": [
    {
     "data": {
      "text/plain": [
       "California    38\n",
       "Texes         26\n",
       "New York      20\n",
       "Florida       19\n",
       "Illinois      13\n",
       "dtype: int64"
      ]
     },
     "execution_count": 13,
     "metadata": {},
     "output_type": "execute_result"
    }
   ],
   "source": [
    "population_dict = {'California': 38,\n",
    "                   'Texes': 26,\n",
    "                   'New York': 20,\n",
    "                   'Florida': 19,\n",
    "                   'Illinois': 13\n",
    "                  }         # population in million\n",
    "population = pd.Series(population_dict)\n",
    "population"
   ]
  },
  {
   "cell_type": "code",
   "execution_count": 14,
   "id": "09df8ffc-ec52-4b27-a338-8f983e3cdde1",
   "metadata": {},
   "outputs": [
    {
     "name": "stdout",
     "output_type": "stream",
     "text": [
      "13\n"
     ]
    }
   ],
   "source": [
    "print(population['Illinois'])\n",
    "# accessing value using index"
   ]
  },
  {
   "cell_type": "code",
   "execution_count": 15,
   "id": "9e4da43d-7461-4406-9b2e-7ecc6b471674",
   "metadata": {},
   "outputs": [
    {
     "data": {
      "text/plain": [
       "California    38\n",
       "Texes         26\n",
       "New York      20\n",
       "dtype: int64"
      ]
     },
     "execution_count": 15,
     "metadata": {},
     "output_type": "execute_result"
    }
   ],
   "source": [
    "population['California': 'New York']"
   ]
  },
  {
   "cell_type": "code",
   "execution_count": 16,
   "id": "f8dc2387-57e7-4771-b7c9-7c6dd147ff8b",
   "metadata": {},
   "outputs": [
    {
     "data": {
      "text/plain": [
       "0    1\n",
       "1    2\n",
       "2    3\n",
       "dtype: int64"
      ]
     },
     "execution_count": 16,
     "metadata": {},
     "output_type": "execute_result"
    }
   ],
   "source": [
    "# conturctiong series objects\n",
    "\n",
    "pd.Series([1,2,3])"
   ]
  },
  {
   "cell_type": "code",
   "execution_count": 17,
   "id": "6d2047c1-3957-448d-976a-1890e6cda69d",
   "metadata": {},
   "outputs": [
    {
     "data": {
      "text/plain": [
       "10    7\n",
       "20    7\n",
       "30    7\n",
       "30    7\n",
       "dtype: int64"
      ]
     },
     "execution_count": 17,
     "metadata": {},
     "output_type": "execute_result"
    }
   ],
   "source": [
    "pd.Series(7, index=[10,20,30,30]) ## note that duplicate indices are allowed\n",
    "# data can be a scalar, which is repeated to fill the specified index"
   ]
  },
  {
   "cell_type": "code",
   "execution_count": 18,
   "id": "9ae8ce43-cd03-4fdb-8aa4-7fb1d4a2457d",
   "metadata": {},
   "outputs": [
    {
     "data": {
      "text/plain": [
       "2    a\n",
       "5    b\n",
       "3    c\n",
       "dtype: object"
      ]
     },
     "execution_count": 18,
     "metadata": {},
     "output_type": "execute_result"
    }
   ],
   "source": [
    " # data can be a dictionary, in which index defaults to dictionary keys\n",
    " pd.Series({2:'a', 5:'b', 3:'c'})"
   ]
  },
  {
   "cell_type": "code",
   "execution_count": 19,
   "id": "f07c36e9-59a1-426e-bdee-068ff56ada6b",
   "metadata": {},
   "outputs": [
    {
     "data": {
      "text/plain": [
       "3    c\n",
       "2    a\n",
       "dtype: object"
      ]
     },
     "execution_count": 19,
     "metadata": {},
     "output_type": "execute_result"
    }
   ],
   "source": [
    "# index can be explicitly set if preferred\n",
    "pd.Series({2:'a', 5:'b', 3:'c'}, index=[3, 2]) \n",
    "# index 5 is discarded since it␣is not in the index list"
   ]
  },
  {
   "cell_type": "markdown",
   "id": "6cbc5bee-1b95-4d49-9af1-15bc8b86013d",
   "metadata": {},
   "source": [
    "## Pandas DataFrame Objects"
   ]
  },
  {
   "cell_type": "code",
   "execution_count": 21,
   "id": "af97e406-073d-4acd-9ba2-e39cfd7f31c2",
   "metadata": {},
   "outputs": [
    {
     "data": {
      "text/plain": [
       "'\\n Pandas DataFrame Object\\n The DataFrame can be considered as\\n • generalization of a NumPy array, or\\n • specialization of a Python dictionary\\n DataFrame as a generalized NumPy Array\\n Just like Series is an analog of a one dimensional array with flexible indices,\\n a DataFrame is an analog of two-dimensional array with both flexible row indices and flexible\\n column indices\\n '"
      ]
     },
     "execution_count": 21,
     "metadata": {},
     "output_type": "execute_result"
    }
   ],
   "source": [
    "'''\n",
    " Pandas DataFrame Object\n",
    " The DataFrame can be considered as\n",
    " • generalization of a NumPy array, or\n",
    " • specialization of a Python dictionary\n",
    " DataFrame as a generalized NumPy Array\n",
    " Just like Series is an analog of a one dimensional array with flexible indices,\n",
    " a DataFrame is an analog of two-dimensional array with both flexible row indices and flexible\n",
    " column indices\n",
    " '''"
   ]
  },
  {
   "cell_type": "code",
   "execution_count": 22,
   "id": "f176ac03-6082-4326-9b51-9b932feaf8f8",
   "metadata": {},
   "outputs": [],
   "source": [
    "area_dict = {'California' : 423,\n",
    "             'Texas': 695,\n",
    "             'New York': 141,\n",
    "             'Florida': 170,\n",
    "             'Illinois': 150\n",
    "            }\n",
    "# area in thousand sq. miles"
   ]
  },
  {
   "cell_type": "code",
   "execution_count": 23,
   "id": "043dc0a0-ba88-40d8-a3ed-dc6844c03685",
   "metadata": {},
   "outputs": [
    {
     "data": {
      "text/plain": [
       "California    423\n",
       "Texas         695\n",
       "New York      141\n",
       "Florida       170\n",
       "Illinois      150\n",
       "dtype: int64"
      ]
     },
     "execution_count": 23,
     "metadata": {},
     "output_type": "execute_result"
    }
   ],
   "source": [
    "area = pd.Series(area_dict)\n",
    "area\n"
   ]
  },
  {
   "cell_type": "code",
   "execution_count": 24,
   "id": "fdde23e1-7f0d-41f1-87c9-2ab0084fed88",
   "metadata": {},
   "outputs": [
    {
     "name": "stdout",
     "output_type": "stream",
     "text": [
      "            population   area\n",
      "California        38.0  423.0\n",
      "Florida           19.0  170.0\n",
      "Illinois          13.0  150.0\n",
      "New York          20.0  141.0\n",
      "Texas              NaN  695.0\n",
      "Texes             26.0    NaN\n"
     ]
    }
   ],
   "source": [
    "states = pd.DataFrame({'population': population,\n",
    "                       'area': area\n",
    "                      })\n",
    "print(states)\n",
    "# We can use the Series area and population (we defined above) to create a single two-dimensionalobject."
   ]
  },
  {
   "cell_type": "code",
   "execution_count": 25,
   "id": "60ba6b2a-dbb3-4d4c-8ec3-685cc435d52d",
   "metadata": {},
   "outputs": [
    {
     "data": {
      "text/plain": [
       "pandas.core.frame.DataFrame"
      ]
     },
     "execution_count": 25,
     "metadata": {},
     "output_type": "execute_result"
    }
   ],
   "source": [
    "type(states)"
   ]
  },
  {
   "cell_type": "code",
   "execution_count": 26,
   "id": "77576f8a-baa7-442e-aa4e-437edb620f03",
   "metadata": {},
   "outputs": [
    {
     "data": {
      "text/plain": [
       "Index(['California', 'Florida', 'Illinois', 'New York', 'Texas', 'Texes'], dtype='object')"
      ]
     },
     "execution_count": 26,
     "metadata": {},
     "output_type": "execute_result"
    }
   ],
   "source": [
    "states.index\n",
    "# show indices"
   ]
  },
  {
   "cell_type": "code",
   "execution_count": 27,
   "id": "385a15fc-70df-40b6-ab73-ff8cfaef0717",
   "metadata": {},
   "outputs": [
    {
     "data": {
      "text/plain": [
       "Index(['population', 'area'], dtype='object')"
      ]
     },
     "execution_count": 27,
     "metadata": {},
     "output_type": "execute_result"
    }
   ],
   "source": [
    "states.columns\n",
    "# shows colums of the dataFrame"
   ]
  },
  {
   "cell_type": "code",
   "execution_count": 28,
   "id": "4e284337-1cb5-4ec0-abf1-61abf2e28655",
   "metadata": {},
   "outputs": [
    {
     "data": {
      "text/plain": [
       "California    423.0\n",
       "Florida       170.0\n",
       "Illinois      150.0\n",
       "New York      141.0\n",
       "Texas         695.0\n",
       "Texes           NaN\n",
       "Name: area, dtype: float64"
      ]
     },
     "execution_count": 28,
     "metadata": {},
     "output_type": "execute_result"
    }
   ],
   "source": [
    "states['area']"
   ]
  },
  {
   "cell_type": "code",
   "execution_count": 29,
   "id": "408715f5-62c9-4342-940d-e7ec71b5c94d",
   "metadata": {},
   "outputs": [
    {
     "data": {
      "text/plain": [
       "California    38\n",
       "Texes         26\n",
       "New York      20\n",
       "Florida       19\n",
       "Illinois      13\n",
       "dtype: int64"
      ]
     },
     "execution_count": 29,
     "metadata": {},
     "output_type": "execute_result"
    }
   ],
   "source": [
    "population"
   ]
  },
  {
   "cell_type": "code",
   "execution_count": 30,
   "id": "f629d105-ac2f-42a0-a43e-3e67e7d70ddd",
   "metadata": {},
   "outputs": [
    {
     "data": {
      "text/html": [
       "<div>\n",
       "<style scoped>\n",
       "    .dataframe tbody tr th:only-of-type {\n",
       "        vertical-align: middle;\n",
       "    }\n",
       "\n",
       "    .dataframe tbody tr th {\n",
       "        vertical-align: top;\n",
       "    }\n",
       "\n",
       "    .dataframe thead th {\n",
       "        text-align: right;\n",
       "    }\n",
       "</style>\n",
       "<table border=\"1\" class=\"dataframe\">\n",
       "  <thead>\n",
       "    <tr style=\"text-align: right;\">\n",
       "      <th></th>\n",
       "      <th>population</th>\n",
       "    </tr>\n",
       "  </thead>\n",
       "  <tbody>\n",
       "    <tr>\n",
       "      <th>California</th>\n",
       "      <td>38</td>\n",
       "    </tr>\n",
       "    <tr>\n",
       "      <th>Texes</th>\n",
       "      <td>26</td>\n",
       "    </tr>\n",
       "    <tr>\n",
       "      <th>New York</th>\n",
       "      <td>20</td>\n",
       "    </tr>\n",
       "    <tr>\n",
       "      <th>Florida</th>\n",
       "      <td>19</td>\n",
       "    </tr>\n",
       "    <tr>\n",
       "      <th>Illinois</th>\n",
       "      <td>13</td>\n",
       "    </tr>\n",
       "  </tbody>\n",
       "</table>\n",
       "</div>"
      ],
      "text/plain": [
       "            population\n",
       "California          38\n",
       "Texes               26\n",
       "New York            20\n",
       "Florida             19\n",
       "Illinois            13"
      ]
     },
     "execution_count": 30,
     "metadata": {},
     "output_type": "execute_result"
    }
   ],
   "source": [
    "pd.DataFrame(population, columns = ['population'])\n",
    " # single column DataFrame can be created from a single Series"
   ]
  },
  {
   "cell_type": "code",
   "execution_count": 31,
   "id": "91b5da2e-7c8d-4537-9ede-f9cc8bb1e494",
   "metadata": {},
   "outputs": [
    {
     "data": {
      "text/plain": [
       "[{'a': 0, 'b': 0},\n",
       " {'a': 1, 'b': 2},\n",
       " {'a': 2, 'b': 4},\n",
       " {'a': 3, 'b': 6},\n",
       " {'a': 4, 'b': 8},\n",
       " {'a': 5, 'b': 10},\n",
       " {'a': 6, 'b': 12},\n",
       " {'a': 7, 'b': 14},\n",
       " {'a': 8, 'b': 16},\n",
       " {'a': 9, 'b': 18}]"
      ]
     },
     "execution_count": 31,
     "metadata": {},
     "output_type": "execute_result"
    }
   ],
   "source": [
    "# from a list of dicts\n",
    "data = [{'a':i, 'b':2*i} for i in range(10)]\n",
    "data"
   ]
  },
  {
   "cell_type": "code",
   "execution_count": 32,
   "id": "1b8397cd-e030-4faa-a7fb-e181a318bd76",
   "metadata": {},
   "outputs": [
    {
     "data": {
      "text/html": [
       "<div>\n",
       "<style scoped>\n",
       "    .dataframe tbody tr th:only-of-type {\n",
       "        vertical-align: middle;\n",
       "    }\n",
       "\n",
       "    .dataframe tbody tr th {\n",
       "        vertical-align: top;\n",
       "    }\n",
       "\n",
       "    .dataframe thead th {\n",
       "        text-align: right;\n",
       "    }\n",
       "</style>\n",
       "<table border=\"1\" class=\"dataframe\">\n",
       "  <thead>\n",
       "    <tr style=\"text-align: right;\">\n",
       "      <th></th>\n",
       "      <th>a</th>\n",
       "      <th>b</th>\n",
       "      <th>c</th>\n",
       "    </tr>\n",
       "  </thead>\n",
       "  <tbody>\n",
       "    <tr>\n",
       "      <th>0</th>\n",
       "      <td>2.0</td>\n",
       "      <td>5</td>\n",
       "      <td>NaN</td>\n",
       "    </tr>\n",
       "    <tr>\n",
       "      <th>1</th>\n",
       "      <td>NaN</td>\n",
       "      <td>7</td>\n",
       "      <td>1.0</td>\n",
       "    </tr>\n",
       "  </tbody>\n",
       "</table>\n",
       "</div>"
      ],
      "text/plain": [
       "     a  b    c\n",
       "0  2.0  5  NaN\n",
       "1  NaN  7  1.0"
      ]
     },
     "execution_count": 32,
     "metadata": {},
     "output_type": "execute_result"
    }
   ],
   "source": [
    "# Even if some keys in the ict are missing, pandas fills them up with NaN ( Not a Number)\n",
    "pd.DataFrame([{'a':2, 'b':5}, {'b':7, 'c':1}])"
   ]
  },
  {
   "cell_type": "code",
   "execution_count": null,
   "id": "dc1dc610-be25-431f-b8c1-072511937cd5",
   "metadata": {},
   "outputs": [],
   "source": []
  },
  {
   "cell_type": "code",
   "execution_count": 33,
   "id": "34652721-062c-4f03-a50f-91e891a2cc02",
   "metadata": {},
   "outputs": [
    {
     "data": {
      "text/html": [
       "<div>\n",
       "<style scoped>\n",
       "    .dataframe tbody tr th:only-of-type {\n",
       "        vertical-align: middle;\n",
       "    }\n",
       "\n",
       "    .dataframe tbody tr th {\n",
       "        vertical-align: top;\n",
       "    }\n",
       "\n",
       "    .dataframe thead th {\n",
       "        text-align: right;\n",
       "    }\n",
       "</style>\n",
       "<table border=\"1\" class=\"dataframe\">\n",
       "  <thead>\n",
       "    <tr style=\"text-align: right;\">\n",
       "      <th></th>\n",
       "      <th>population</th>\n",
       "      <th>area</th>\n",
       "    </tr>\n",
       "  </thead>\n",
       "  <tbody>\n",
       "    <tr>\n",
       "      <th>California</th>\n",
       "      <td>38.0</td>\n",
       "      <td>423.0</td>\n",
       "    </tr>\n",
       "    <tr>\n",
       "      <th>Florida</th>\n",
       "      <td>19.0</td>\n",
       "      <td>170.0</td>\n",
       "    </tr>\n",
       "    <tr>\n",
       "      <th>Illinois</th>\n",
       "      <td>13.0</td>\n",
       "      <td>150.0</td>\n",
       "    </tr>\n",
       "    <tr>\n",
       "      <th>New York</th>\n",
       "      <td>20.0</td>\n",
       "      <td>141.0</td>\n",
       "    </tr>\n",
       "    <tr>\n",
       "      <th>Texas</th>\n",
       "      <td>NaN</td>\n",
       "      <td>695.0</td>\n",
       "    </tr>\n",
       "    <tr>\n",
       "      <th>Texes</th>\n",
       "      <td>26.0</td>\n",
       "      <td>NaN</td>\n",
       "    </tr>\n",
       "  </tbody>\n",
       "</table>\n",
       "</div>"
      ],
      "text/plain": [
       "            population   area\n",
       "California        38.0  423.0\n",
       "Florida           19.0  170.0\n",
       "Illinois          13.0  150.0\n",
       "New York          20.0  141.0\n",
       "Texas              NaN  695.0\n",
       "Texes             26.0    NaN"
      ]
     },
     "execution_count": 33,
     "metadata": {},
     "output_type": "execute_result"
    }
   ],
   "source": [
    " # from a dict of series objects\n",
    " pd.DataFrame({'population': population,\n",
    " 'area': area\n",
    " })"
   ]
  },
  {
   "cell_type": "code",
   "execution_count": 34,
   "id": "104de3fc-5e6e-4aef-87c8-5baa9c29bcce",
   "metadata": {},
   "outputs": [
    {
     "data": {
      "text/html": [
       "<div>\n",
       "<style scoped>\n",
       "    .dataframe tbody tr th:only-of-type {\n",
       "        vertical-align: middle;\n",
       "    }\n",
       "\n",
       "    .dataframe tbody tr th {\n",
       "        vertical-align: top;\n",
       "    }\n",
       "\n",
       "    .dataframe thead th {\n",
       "        text-align: right;\n",
       "    }\n",
       "</style>\n",
       "<table border=\"1\" class=\"dataframe\">\n",
       "  <thead>\n",
       "    <tr style=\"text-align: right;\">\n",
       "      <th></th>\n",
       "      <th>foo</th>\n",
       "      <th>bar</th>\n",
       "    </tr>\n",
       "  </thead>\n",
       "  <tbody>\n",
       "    <tr>\n",
       "      <th>a</th>\n",
       "      <td>0.284313</td>\n",
       "      <td>0.447049</td>\n",
       "    </tr>\n",
       "    <tr>\n",
       "      <th>b</th>\n",
       "      <td>0.770383</td>\n",
       "      <td>0.214399</td>\n",
       "    </tr>\n",
       "    <tr>\n",
       "      <th>c</th>\n",
       "      <td>0.345266</td>\n",
       "      <td>0.161567</td>\n",
       "    </tr>\n",
       "  </tbody>\n",
       "</table>\n",
       "</div>"
      ],
      "text/plain": [
       "        foo       bar\n",
       "a  0.284313  0.447049\n",
       "b  0.770383  0.214399\n",
       "c  0.345266  0.161567"
      ]
     },
     "execution_count": 34,
     "metadata": {},
     "output_type": "execute_result"
    }
   ],
   "source": [
    "# from a 2-dimensional numpy array\n",
    "import numpy as np\n",
    "pd.DataFrame(np.random.rand(3, 2),\n",
    "columns = ['foo', 'bar'],\n",
    "index = ['a', 'b', 'c'])"
   ]
  },
  {
   "cell_type": "code",
   "execution_count": 35,
   "id": "83443d0d-42b4-4a9c-b015-7a2c01481499",
   "metadata": {},
   "outputs": [
    {
     "data": {
      "text/html": [
       "<div>\n",
       "<style scoped>\n",
       "    .dataframe tbody tr th:only-of-type {\n",
       "        vertical-align: middle;\n",
       "    }\n",
       "\n",
       "    .dataframe tbody tr th {\n",
       "        vertical-align: top;\n",
       "    }\n",
       "\n",
       "    .dataframe thead th {\n",
       "        text-align: right;\n",
       "    }\n",
       "</style>\n",
       "<table border=\"1\" class=\"dataframe\">\n",
       "  <thead>\n",
       "    <tr style=\"text-align: right;\">\n",
       "      <th></th>\n",
       "      <th>A</th>\n",
       "      <th>B</th>\n",
       "    </tr>\n",
       "  </thead>\n",
       "  <tbody>\n",
       "    <tr>\n",
       "      <th>0</th>\n",
       "      <td>0</td>\n",
       "      <td>0.0</td>\n",
       "    </tr>\n",
       "    <tr>\n",
       "      <th>1</th>\n",
       "      <td>0</td>\n",
       "      <td>0.0</td>\n",
       "    </tr>\n",
       "    <tr>\n",
       "      <th>2</th>\n",
       "      <td>0</td>\n",
       "      <td>0.0</td>\n",
       "    </tr>\n",
       "  </tbody>\n",
       "</table>\n",
       "</div>"
      ],
      "text/plain": [
       "   A    B\n",
       "0  0  0.0\n",
       "1  0  0.0\n",
       "2  0  0.0"
      ]
     },
     "execution_count": 35,
     "metadata": {},
     "output_type": "execute_result"
    }
   ],
   "source": [
    "# from a numpy structured array\n",
    "pd.DataFrame(np.zeros(3, dtype=[('A', 'i8'), ('B', 'f8')]))"
   ]
  },
  {
   "cell_type": "markdown",
   "id": "31d929b2-0c42-4a37-802f-a2c67680c8b3",
   "metadata": {},
   "source": [
    "## Pandas Index Object"
   ]
  },
  {
   "cell_type": "code",
   "execution_count": 37,
   "id": "515e3bd3-b2c7-48fd-9bc5-acbbd29d90ef",
   "metadata": {},
   "outputs": [
    {
     "data": {
      "text/plain": [
       "Index([1, 5, 3, 9, 7], dtype='int64')"
      ]
     },
     "execution_count": 37,
     "metadata": {},
     "output_type": "execute_result"
    }
   ],
   "source": [
    "# The Pandas Index object can be thought of as an immutable array.\n",
    "# Let’s construct an Index object from a list of integers.\n",
    "import pandas as pd\n",
    "ind = pd.Index([1, 5, 3, 9, 7])\n",
    "ind"
   ]
  },
  {
   "cell_type": "code",
   "execution_count": 38,
   "id": "0e932240-25c2-4d94-87d1-12eb8c960c1f",
   "metadata": {},
   "outputs": [
    {
     "data": {
      "text/plain": [
       "np.int64(9)"
      ]
     },
     "execution_count": 38,
     "metadata": {},
     "output_type": "execute_result"
    }
   ],
   "source": [
    "# can use indexing notation to get values\n",
    "ind[3]"
   ]
  },
  {
   "cell_type": "code",
   "execution_count": 39,
   "id": "1236e479-62a9-4990-8741-0eff103bc8a1",
   "metadata": {},
   "outputs": [
    {
     "data": {
      "text/plain": [
       "Index([7, 9, 3, 5, 1], dtype='int64')"
      ]
     },
     "execution_count": 39,
     "metadata": {},
     "output_type": "execute_result"
    }
   ],
   "source": [
    "ind[::-1] # slicing also works"
   ]
  },
  {
   "cell_type": "code",
   "execution_count": 40,
   "id": "1a2d0eff-1c2c-42cb-8f5e-60d07081589d",
   "metadata": {},
   "outputs": [
    {
     "data": {
      "text/plain": [
       "Index([0, 3, 0, 4, 9], dtype='int64')"
      ]
     },
     "execution_count": 40,
     "metadata": {},
     "output_type": "execute_result"
    }
   ],
   "source": [
    " indA= pd.Index([1,3,8,4, 9])\n",
    " indB= pd.Index([2,3,7,5, 9])\n",
    "\n",
    " #intersectionofindAandindB\n",
    "indA& indB"
   ]
  },
  {
   "cell_type": "code",
   "execution_count": 41,
   "id": "e2f2afb0-f4e1-41e5-9438-d480b5c422bc",
   "metadata": {},
   "outputs": [
    {
     "data": {
      "text/plain": [
       "Index([3, 9], dtype='int64')"
      ]
     },
     "execution_count": 41,
     "metadata": {},
     "output_type": "execute_result"
    }
   ],
   "source": [
    "indA.intersection(indB)"
   ]
  },
  {
   "cell_type": "code",
   "execution_count": 42,
   "id": "0b0e8725-a3b0-4c97-998d-25ee7e19d1c6",
   "metadata": {},
   "outputs": [
    {
     "data": {
      "text/plain": [
       "Index([3, 3, 15, 5, 9], dtype='int64')"
      ]
     },
     "execution_count": 42,
     "metadata": {},
     "output_type": "execute_result"
    }
   ],
   "source": [
    "indA | indB\n",
    "# union of indA and indB"
   ]
  },
  {
   "cell_type": "code",
   "execution_count": 43,
   "id": "8c269918-b0e1-48e4-87fc-a3133bb9fb4b",
   "metadata": {},
   "outputs": [
    {
     "data": {
      "text/plain": [
       "Index([1, 2, 3, 4, 5, 7, 8, 9], dtype='int64')"
      ]
     },
     "execution_count": 43,
     "metadata": {},
     "output_type": "execute_result"
    }
   ],
   "source": [
    "indA.union(indB)"
   ]
  },
  {
   "cell_type": "code",
   "execution_count": 44,
   "id": "bcf97ab5-647c-4112-8a94-ac5f2e7d3581",
   "metadata": {},
   "outputs": [
    {
     "data": {
      "text/plain": [
       "'\\n Data Selection in Series\\n The Series object is in many ways like a one-dimensional NumPy Array, and in many ways like a\\n standard Python dictionary.\\n Series as a Dictionary\\n Just like a dictionary, the Series object provides a mapping from a collection of keys to a collection\\n of values\\n '"
      ]
     },
     "execution_count": 44,
     "metadata": {},
     "output_type": "execute_result"
    }
   ],
   "source": [
    "'''\n",
    " Data Selection in Series\n",
    " The Series object is in many ways like a one-dimensional NumPy Array, and in many ways like a\n",
    " standard Python dictionary.\n",
    " Series as a Dictionary\n",
    " Just like a dictionary, the Series object provides a mapping from a collection of keys to a collection\n",
    " of values\n",
    " '''"
   ]
  },
  {
   "cell_type": "code",
   "execution_count": 45,
   "id": "7cfe5ec0-c3d5-4158-a649-b03b46af3350",
   "metadata": {},
   "outputs": [
    {
     "data": {
      "text/plain": [
       "a    0.25\n",
       "b    0.50\n",
       "c    0.75\n",
       "d    1.00\n",
       "dtype: float64"
      ]
     },
     "execution_count": 45,
     "metadata": {},
     "output_type": "execute_result"
    }
   ],
   "source": [
    "import pandas as pd\n",
    "data = pd.Series([0.25, 0.5, 0.75, 1.0], index=['a', 'b', 'c', 'd'])\n",
    "data"
   ]
  },
  {
   "cell_type": "code",
   "execution_count": 46,
   "id": "9996661b-578b-4e6d-9440-0243c8449799",
   "metadata": {},
   "outputs": [
    {
     "data": {
      "text/plain": [
       "True"
      ]
     },
     "execution_count": 46,
     "metadata": {},
     "output_type": "execute_result"
    }
   ],
   "source": [
    "'d' in data"
   ]
  },
  {
   "cell_type": "code",
   "execution_count": 47,
   "id": "6088ba5a-5d14-4166-9596-981648864659",
   "metadata": {},
   "outputs": [
    {
     "data": {
      "text/plain": [
       "Index(['a', 'b', 'c', 'd'], dtype='object')"
      ]
     },
     "execution_count": 47,
     "metadata": {},
     "output_type": "execute_result"
    }
   ],
   "source": [
    "data.keys()"
   ]
  },
  {
   "cell_type": "code",
   "execution_count": 48,
   "id": "797af2f2-35a6-47a3-bb81-8ad843bf222f",
   "metadata": {},
   "outputs": [
    {
     "data": {
      "text/plain": [
       "[('a', 0.25), ('b', 0.5), ('c', 0.75), ('d', 1.0)]"
      ]
     },
     "execution_count": 48,
     "metadata": {},
     "output_type": "execute_result"
    }
   ],
   "source": [
    "list(data.items())\n",
    "# get all items"
   ]
  },
  {
   "cell_type": "code",
   "execution_count": 49,
   "id": "0be56ecb-758d-4352-acc8-5cd5706a3312",
   "metadata": {},
   "outputs": [
    {
     "data": {
      "text/plain": [
       "a    0.25\n",
       "b    0.50\n",
       "c    0.75\n",
       "d    1.00\n",
       "e    1.25\n",
       "dtype: float64"
      ]
     },
     "execution_count": 49,
     "metadata": {},
     "output_type": "execute_result"
    }
   ],
   "source": [
    "data['e'] = 1.25\n",
    "data\n",
    " # new key (index) and value pair added"
   ]
  },
  {
   "cell_type": "code",
   "execution_count": 50,
   "id": "057d8a4c-5798-4797-97d5-f08f15af7116",
   "metadata": {},
   "outputs": [
    {
     "data": {
      "text/plain": [
       "a    0.25\n",
       "b    0.50\n",
       "c    0.75\n",
       "d    1.50\n",
       "e    1.25\n",
       "dtype: float64"
      ]
     },
     "execution_count": 50,
     "metadata": {},
     "output_type": "execute_result"
    }
   ],
   "source": [
    "data['d'] = 1.50\n",
    "data\n",
    " #  key (index) and value pair updated"
   ]
  },
  {
   "cell_type": "code",
   "execution_count": 51,
   "id": "5f84d9ae-3a26-43bd-bad9-840232514d14",
   "metadata": {},
   "outputs": [
    {
     "data": {
      "text/plain": [
       "'\\n Indexers: loc and iloc\\n Pandas provides special indexer attributes that explicitly expose certain indexing schemes.\\n The loc attribute allows indexing and slicing that always references the explicit index.\\n '"
      ]
     },
     "execution_count": 51,
     "metadata": {},
     "output_type": "execute_result"
    }
   ],
   "source": [
    "'''\n",
    " Indexers: loc and iloc\n",
    " Pandas provides special indexer attributes that explicitly expose certain indexing schemes.\n",
    " The loc attribute allows indexing and slicing that always references the explicit index.\n",
    " '''"
   ]
  },
  {
   "cell_type": "code",
   "execution_count": 52,
   "id": "2e03b61e-eb4e-4da6-b2c2-8da98e03d2d5",
   "metadata": {},
   "outputs": [
    {
     "data": {
      "text/plain": [
       "1    x\n",
       "3    y\n",
       "5    z\n",
       "dtype: object"
      ]
     },
     "execution_count": 52,
     "metadata": {},
     "output_type": "execute_result"
    }
   ],
   "source": [
    "data = pd.Series(['x','y','z'], index = [1,3,5])\n",
    "data"
   ]
  },
  {
   "cell_type": "code",
   "execution_count": 53,
   "id": "29be0d06-d217-4d2b-9a29-149b4adc4261",
   "metadata": {},
   "outputs": [
    {
     "data": {
      "text/plain": [
       "'x'"
      ]
     },
     "execution_count": 53,
     "metadata": {},
     "output_type": "execute_result"
    }
   ],
   "source": [
    "data[1]"
   ]
  },
  {
   "cell_type": "code",
   "execution_count": 54,
   "id": "5097fd14-0fce-48e1-b70f-087fa70be81d",
   "metadata": {},
   "outputs": [
    {
     "data": {
      "text/plain": [
       "'y'"
      ]
     },
     "execution_count": 54,
     "metadata": {},
     "output_type": "execute_result"
    }
   ],
   "source": [
    "data.iloc[1]\n",
    "# referencing by implicit index using iloc"
   ]
  },
  {
   "cell_type": "code",
   "execution_count": 55,
   "id": "56c29f79-0374-4bc5-9c29-96ca15d59100",
   "metadata": {},
   "outputs": [
    {
     "data": {
      "text/plain": [
       "'x'"
      ]
     },
     "execution_count": 55,
     "metadata": {},
     "output_type": "execute_result"
    }
   ],
   "source": [
    "data.loc[1] \n",
    "# using explicit indexing using lo"
   ]
  },
  {
   "cell_type": "code",
   "execution_count": 56,
   "id": "342a2cbd-0c26-4e58-9d6f-73811bef4a31",
   "metadata": {},
   "outputs": [
    {
     "data": {
      "text/plain": [
       "'x'"
      ]
     },
     "execution_count": 56,
     "metadata": {},
     "output_type": "execute_result"
    }
   ],
   "source": [
    " # without iloc\n",
    "data[1] # explicit indexing"
   ]
  },
  {
   "cell_type": "code",
   "execution_count": 57,
   "id": "6373e9f4-a8cd-48cd-a29c-5df5b73876c7",
   "metadata": {},
   "outputs": [],
   "source": [
    "#  Explicit is always better than implicit. So it is better to use loc and iloc to make explicit which indexing is intended."
   ]
  },
  {
   "cell_type": "code",
   "execution_count": 58,
   "id": "61a04895-d088-4bf7-b3d9-8ccda77944cc",
   "metadata": {},
   "outputs": [
    {
     "data": {
      "text/plain": [
       "'\\n Data Selection in DataFrame\\n DataFrame acts in many ways as:\\n • atwo-dimensional or structured array\\n • or, a dictionary of Series sharing the same index\\n DataFrame as a dictionary\\n Let’s see how DataFrame is analogous to dictionary.\\n '"
      ]
     },
     "execution_count": 58,
     "metadata": {},
     "output_type": "execute_result"
    }
   ],
   "source": [
    "'''\n",
    " Data Selection in DataFrame\n",
    " DataFrame acts in many ways as:\n",
    " • atwo-dimensional or structured array\n",
    " • or, a dictionary of Series sharing the same index\n",
    " DataFrame as a dictionary\n",
    " Let’s see how DataFrame is analogous to dictionary.\n",
    " '''"
   ]
  },
  {
   "cell_type": "code",
   "execution_count": 59,
   "id": "fb3a4353-ade8-4a2c-bbb6-a9a3c6108800",
   "metadata": {},
   "outputs": [],
   "source": [
    " area = pd.Series({'California': 424,\n",
    " 'Texas': 696,\n",
    " 'New York': 141,\n",
    " 'Florida': 170,\n",
    " 'Illinois': 150\n",
    " }) # thousand sq miles"
   ]
  },
  {
   "cell_type": "code",
   "execution_count": 60,
   "id": "58d22f0a-c2dc-4e75-9437-e5b13a8e4bcc",
   "metadata": {},
   "outputs": [],
   "source": [
    " population = pd.Series({'California': 38,\n",
    " 'Texas': 26,\n",
    " 'New York': 19,\n",
    " 'Florida': 20,\n",
    " 'Illinois': 129\n",
    " }) # million"
   ]
  },
  {
   "cell_type": "code",
   "execution_count": 61,
   "id": "baa07ec1-1373-43f7-b579-cae3175444b6",
   "metadata": {},
   "outputs": [
    {
     "data": {
      "text/html": [
       "<div>\n",
       "<style scoped>\n",
       "    .dataframe tbody tr th:only-of-type {\n",
       "        vertical-align: middle;\n",
       "    }\n",
       "\n",
       "    .dataframe tbody tr th {\n",
       "        vertical-align: top;\n",
       "    }\n",
       "\n",
       "    .dataframe thead th {\n",
       "        text-align: right;\n",
       "    }\n",
       "</style>\n",
       "<table border=\"1\" class=\"dataframe\">\n",
       "  <thead>\n",
       "    <tr style=\"text-align: right;\">\n",
       "      <th></th>\n",
       "      <th>area</th>\n",
       "      <th>population</th>\n",
       "    </tr>\n",
       "  </thead>\n",
       "  <tbody>\n",
       "    <tr>\n",
       "      <th>California</th>\n",
       "      <td>424</td>\n",
       "      <td>38</td>\n",
       "    </tr>\n",
       "    <tr>\n",
       "      <th>Texas</th>\n",
       "      <td>696</td>\n",
       "      <td>26</td>\n",
       "    </tr>\n",
       "    <tr>\n",
       "      <th>New York</th>\n",
       "      <td>141</td>\n",
       "      <td>19</td>\n",
       "    </tr>\n",
       "    <tr>\n",
       "      <th>Florida</th>\n",
       "      <td>170</td>\n",
       "      <td>20</td>\n",
       "    </tr>\n",
       "    <tr>\n",
       "      <th>Illinois</th>\n",
       "      <td>150</td>\n",
       "      <td>129</td>\n",
       "    </tr>\n",
       "  </tbody>\n",
       "</table>\n",
       "</div>"
      ],
      "text/plain": [
       "            area  population\n",
       "California   424          38\n",
       "Texas        696          26\n",
       "New York     141          19\n",
       "Florida      170          20\n",
       "Illinois     150         129"
      ]
     },
     "execution_count": 61,
     "metadata": {},
     "output_type": "execute_result"
    }
   ],
   "source": [
    "data = pd.DataFrame({'area': area,\n",
    "                     'population': population\n",
    "                    })\n",
    "# data frame as dictionary\n",
    "data\n"
   ]
  },
  {
   "cell_type": "code",
   "execution_count": 62,
   "id": "ff452ae9-4901-40cf-8806-eaa09810b2e5",
   "metadata": {},
   "outputs": [
    {
     "data": {
      "text/html": [
       "<div>\n",
       "<style scoped>\n",
       "    .dataframe tbody tr th:only-of-type {\n",
       "        vertical-align: middle;\n",
       "    }\n",
       "\n",
       "    .dataframe tbody tr th {\n",
       "        vertical-align: top;\n",
       "    }\n",
       "\n",
       "    .dataframe thead th {\n",
       "        text-align: right;\n",
       "    }\n",
       "</style>\n",
       "<table border=\"1\" class=\"dataframe\">\n",
       "  <thead>\n",
       "    <tr style=\"text-align: right;\">\n",
       "      <th></th>\n",
       "      <th>area</th>\n",
       "      <th>population</th>\n",
       "      <th>density</th>\n",
       "    </tr>\n",
       "  </thead>\n",
       "  <tbody>\n",
       "    <tr>\n",
       "      <th>California</th>\n",
       "      <td>424</td>\n",
       "      <td>38</td>\n",
       "      <td>0.089623</td>\n",
       "    </tr>\n",
       "    <tr>\n",
       "      <th>Texas</th>\n",
       "      <td>696</td>\n",
       "      <td>26</td>\n",
       "      <td>0.037356</td>\n",
       "    </tr>\n",
       "    <tr>\n",
       "      <th>New York</th>\n",
       "      <td>141</td>\n",
       "      <td>19</td>\n",
       "      <td>0.134752</td>\n",
       "    </tr>\n",
       "    <tr>\n",
       "      <th>Florida</th>\n",
       "      <td>170</td>\n",
       "      <td>20</td>\n",
       "      <td>0.117647</td>\n",
       "    </tr>\n",
       "    <tr>\n",
       "      <th>Illinois</th>\n",
       "      <td>150</td>\n",
       "      <td>129</td>\n",
       "      <td>0.860000</td>\n",
       "    </tr>\n",
       "  </tbody>\n",
       "</table>\n",
       "</div>"
      ],
      "text/plain": [
       "            area  population   density\n",
       "California   424          38  0.089623\n",
       "Texas        696          26  0.037356\n",
       "New York     141          19  0.134752\n",
       "Florida      170          20  0.117647\n",
       "Illinois     150         129  0.860000"
      ]
     },
     "execution_count": 62,
     "metadata": {},
     "output_type": "execute_result"
    }
   ],
   "source": [
    "# adding a new column 'density'\n",
    "data['density'] = data['population'] / data['area']\n",
    "data"
   ]
  },
  {
   "cell_type": "code",
   "execution_count": 63,
   "id": "b120cfcc-0cff-44f6-9810-dd88153368ec",
   "metadata": {},
   "outputs": [
    {
     "data": {
      "text/plain": [
       "array([[4.24000000e+02, 3.80000000e+01, 8.96226415e-02],\n",
       "       [6.96000000e+02, 2.60000000e+01, 3.73563218e-02],\n",
       "       [1.41000000e+02, 1.90000000e+01, 1.34751773e-01],\n",
       "       [1.70000000e+02, 2.00000000e+01, 1.17647059e-01],\n",
       "       [1.50000000e+02, 1.29000000e+02, 8.60000000e-01]])"
      ]
     },
     "execution_count": 63,
     "metadata": {},
     "output_type": "execute_result"
    }
   ],
   "source": [
    "# DataFrame as a 2-dimenstional array\n",
    "# DataFrame can also be viewed as a two-dimensional array\n",
    "data.values"
   ]
  },
  {
   "cell_type": "code",
   "execution_count": 64,
   "id": "cadcdd12-7b47-4770-a14c-6ed4ffbe432f",
   "metadata": {},
   "outputs": [
    {
     "data": {
      "text/html": [
       "<div>\n",
       "<style scoped>\n",
       "    .dataframe tbody tr th:only-of-type {\n",
       "        vertical-align: middle;\n",
       "    }\n",
       "\n",
       "    .dataframe tbody tr th {\n",
       "        vertical-align: top;\n",
       "    }\n",
       "\n",
       "    .dataframe thead th {\n",
       "        text-align: right;\n",
       "    }\n",
       "</style>\n",
       "<table border=\"1\" class=\"dataframe\">\n",
       "  <thead>\n",
       "    <tr style=\"text-align: right;\">\n",
       "      <th></th>\n",
       "      <th>California</th>\n",
       "      <th>Texas</th>\n",
       "      <th>New York</th>\n",
       "      <th>Florida</th>\n",
       "      <th>Illinois</th>\n",
       "    </tr>\n",
       "  </thead>\n",
       "  <tbody>\n",
       "    <tr>\n",
       "      <th>area</th>\n",
       "      <td>424.000000</td>\n",
       "      <td>696.000000</td>\n",
       "      <td>141.000000</td>\n",
       "      <td>170.000000</td>\n",
       "      <td>150.00</td>\n",
       "    </tr>\n",
       "    <tr>\n",
       "      <th>population</th>\n",
       "      <td>38.000000</td>\n",
       "      <td>26.000000</td>\n",
       "      <td>19.000000</td>\n",
       "      <td>20.000000</td>\n",
       "      <td>129.00</td>\n",
       "    </tr>\n",
       "    <tr>\n",
       "      <th>density</th>\n",
       "      <td>0.089623</td>\n",
       "      <td>0.037356</td>\n",
       "      <td>0.134752</td>\n",
       "      <td>0.117647</td>\n",
       "      <td>0.86</td>\n",
       "    </tr>\n",
       "  </tbody>\n",
       "</table>\n",
       "</div>"
      ],
      "text/plain": [
       "            California       Texas    New York     Florida  Illinois\n",
       "area        424.000000  696.000000  141.000000  170.000000    150.00\n",
       "population   38.000000   26.000000   19.000000   20.000000    129.00\n",
       "density       0.089623    0.037356    0.134752    0.117647      0.86"
      ]
     },
     "execution_count": 64,
     "metadata": {},
     "output_type": "execute_result"
    }
   ],
   "source": [
    "data.T\n",
    "# tansposing the dataframe (rows become column; and columns become rows)"
   ]
  },
  {
   "cell_type": "code",
   "execution_count": 65,
   "id": "615c265a-646e-4af6-a147-416c91f139ff",
   "metadata": {},
   "outputs": [
    {
     "data": {
      "text/plain": [
       "array([6.96000000e+02, 2.60000000e+01, 3.73563218e-02])"
      ]
     },
     "execution_count": 65,
     "metadata": {},
     "output_type": "execute_result"
    }
   ],
   "source": [
    "data.values[1]\n",
    "# return the first row of the array"
   ]
  },
  {
   "cell_type": "code",
   "execution_count": 66,
   "id": "fe4cf0eb-82eb-4f92-a4bf-084f4f19b8f5",
   "metadata": {},
   "outputs": [
    {
     "data": {
      "text/html": [
       "<div>\n",
       "<style scoped>\n",
       "    .dataframe tbody tr th:only-of-type {\n",
       "        vertical-align: middle;\n",
       "    }\n",
       "\n",
       "    .dataframe tbody tr th {\n",
       "        vertical-align: top;\n",
       "    }\n",
       "\n",
       "    .dataframe thead th {\n",
       "        text-align: right;\n",
       "    }\n",
       "</style>\n",
       "<table border=\"1\" class=\"dataframe\">\n",
       "  <thead>\n",
       "    <tr style=\"text-align: right;\">\n",
       "      <th></th>\n",
       "      <th>area</th>\n",
       "      <th>population</th>\n",
       "      <th>density</th>\n",
       "    </tr>\n",
       "  </thead>\n",
       "  <tbody>\n",
       "    <tr>\n",
       "      <th>California</th>\n",
       "      <td>424</td>\n",
       "      <td>38</td>\n",
       "      <td>0.089623</td>\n",
       "    </tr>\n",
       "    <tr>\n",
       "      <th>Texas</th>\n",
       "      <td>696</td>\n",
       "      <td>26</td>\n",
       "      <td>0.037356</td>\n",
       "    </tr>\n",
       "    <tr>\n",
       "      <th>New York</th>\n",
       "      <td>141</td>\n",
       "      <td>19</td>\n",
       "      <td>0.134752</td>\n",
       "    </tr>\n",
       "    <tr>\n",
       "      <th>Florida</th>\n",
       "      <td>170</td>\n",
       "      <td>20</td>\n",
       "      <td>0.117647</td>\n",
       "    </tr>\n",
       "    <tr>\n",
       "      <th>Illinois</th>\n",
       "      <td>150</td>\n",
       "      <td>129</td>\n",
       "      <td>0.860000</td>\n",
       "    </tr>\n",
       "  </tbody>\n",
       "</table>\n",
       "</div>"
      ],
      "text/plain": [
       "            area  population   density\n",
       "California   424          38  0.089623\n",
       "Texas        696          26  0.037356\n",
       "New York     141          19  0.134752\n",
       "Florida      170          20  0.117647\n",
       "Illinois     150         129  0.860000"
      ]
     },
     "execution_count": 66,
     "metadata": {},
     "output_type": "execute_result"
    }
   ],
   "source": [
    "data"
   ]
  },
  {
   "cell_type": "code",
   "execution_count": 67,
   "id": "928bf07f-0647-487c-94a1-961e2a14ddd7",
   "metadata": {},
   "outputs": [
    {
     "data": {
      "text/html": [
       "<div>\n",
       "<style scoped>\n",
       "    .dataframe tbody tr th:only-of-type {\n",
       "        vertical-align: middle;\n",
       "    }\n",
       "\n",
       "    .dataframe tbody tr th {\n",
       "        vertical-align: top;\n",
       "    }\n",
       "\n",
       "    .dataframe thead th {\n",
       "        text-align: right;\n",
       "    }\n",
       "</style>\n",
       "<table border=\"1\" class=\"dataframe\">\n",
       "  <thead>\n",
       "    <tr style=\"text-align: right;\">\n",
       "      <th></th>\n",
       "      <th>area</th>\n",
       "      <th>population</th>\n",
       "    </tr>\n",
       "  </thead>\n",
       "  <tbody>\n",
       "    <tr>\n",
       "      <th>California</th>\n",
       "      <td>424</td>\n",
       "      <td>38</td>\n",
       "    </tr>\n",
       "    <tr>\n",
       "      <th>Texas</th>\n",
       "      <td>696</td>\n",
       "      <td>26</td>\n",
       "    </tr>\n",
       "    <tr>\n",
       "      <th>New York</th>\n",
       "      <td>141</td>\n",
       "      <td>19</td>\n",
       "    </tr>\n",
       "  </tbody>\n",
       "</table>\n",
       "</div>"
      ],
      "text/plain": [
       "            area  population\n",
       "California   424          38\n",
       "Texas        696          26\n",
       "New York     141          19"
      ]
     },
     "execution_count": 67,
     "metadata": {},
     "output_type": "execute_result"
    }
   ],
   "source": [
    "# implicit indexing\n",
    "data.iloc[:3, :2] # rows 0, 1, 2 and columns 0, 1"
   ]
  },
  {
   "cell_type": "code",
   "execution_count": 68,
   "id": "2d6d07f1-5ebc-4674-9d47-5db6fcde5bfd",
   "metadata": {},
   "outputs": [
    {
     "data": {
      "text/html": [
       "<div>\n",
       "<style scoped>\n",
       "    .dataframe tbody tr th:only-of-type {\n",
       "        vertical-align: middle;\n",
       "    }\n",
       "\n",
       "    .dataframe tbody tr th {\n",
       "        vertical-align: top;\n",
       "    }\n",
       "\n",
       "    .dataframe thead th {\n",
       "        text-align: right;\n",
       "    }\n",
       "</style>\n",
       "<table border=\"1\" class=\"dataframe\">\n",
       "  <thead>\n",
       "    <tr style=\"text-align: right;\">\n",
       "      <th></th>\n",
       "      <th>area</th>\n",
       "      <th>population</th>\n",
       "    </tr>\n",
       "  </thead>\n",
       "  <tbody>\n",
       "    <tr>\n",
       "      <th>California</th>\n",
       "      <td>424</td>\n",
       "      <td>38</td>\n",
       "    </tr>\n",
       "    <tr>\n",
       "      <th>Texas</th>\n",
       "      <td>696</td>\n",
       "      <td>26</td>\n",
       "    </tr>\n",
       "    <tr>\n",
       "      <th>New York</th>\n",
       "      <td>141</td>\n",
       "      <td>19</td>\n",
       "    </tr>\n",
       "  </tbody>\n",
       "</table>\n",
       "</div>"
      ],
      "text/plain": [
       "            area  population\n",
       "California   424          38\n",
       "Texas        696          26\n",
       "New York     141          19"
      ]
     },
     "execution_count": 68,
     "metadata": {},
     "output_type": "execute_result"
    }
   ],
   "source": [
    "# explicit indexing\n",
    "data.loc[:'New York', :'population']\n",
    "# rows upto \"New York\" and columns up to 'population"
   ]
  },
  {
   "cell_type": "code",
   "execution_count": 69,
   "id": "169cc7f2-3a87-4187-b873-5c8aec6ebbd2",
   "metadata": {},
   "outputs": [
    {
     "data": {
      "text/html": [
       "<div>\n",
       "<style scoped>\n",
       "    .dataframe tbody tr th:only-of-type {\n",
       "        vertical-align: middle;\n",
       "    }\n",
       "\n",
       "    .dataframe tbody tr th {\n",
       "        vertical-align: top;\n",
       "    }\n",
       "\n",
       "    .dataframe thead th {\n",
       "        text-align: right;\n",
       "    }\n",
       "</style>\n",
       "<table border=\"1\" class=\"dataframe\">\n",
       "  <thead>\n",
       "    <tr style=\"text-align: right;\">\n",
       "      <th></th>\n",
       "      <th>area</th>\n",
       "    </tr>\n",
       "  </thead>\n",
       "  <tbody>\n",
       "    <tr>\n",
       "      <th>California</th>\n",
       "      <td>424</td>\n",
       "    </tr>\n",
       "    <tr>\n",
       "      <th>Texas</th>\n",
       "      <td>696</td>\n",
       "    </tr>\n",
       "    <tr>\n",
       "      <th>New York</th>\n",
       "      <td>141</td>\n",
       "    </tr>\n",
       "    <tr>\n",
       "      <th>Florida</th>\n",
       "      <td>170</td>\n",
       "    </tr>\n",
       "  </tbody>\n",
       "</table>\n",
       "</div>"
      ],
      "text/plain": [
       "            area\n",
       "California   424\n",
       "Texas        696\n",
       "New York     141\n",
       "Florida      170"
      ]
     },
     "execution_count": 69,
     "metadata": {},
     "output_type": "execute_result"
    }
   ],
   "source": [
    "# explicit indexing\n",
    "data.loc[:'Florida', :'area']\n",
    "# rows upto 'Florida' and coulums upto 'area'"
   ]
  },
  {
   "cell_type": "code",
   "execution_count": 70,
   "id": "ca0745cd-9d4a-4f7c-a2a1-1ada4733a6a5",
   "metadata": {},
   "outputs": [
    {
     "data": {
      "text/html": [
       "<div>\n",
       "<style scoped>\n",
       "    .dataframe tbody tr th:only-of-type {\n",
       "        vertical-align: middle;\n",
       "    }\n",
       "\n",
       "    .dataframe tbody tr th {\n",
       "        vertical-align: top;\n",
       "    }\n",
       "\n",
       "    .dataframe thead th {\n",
       "        text-align: right;\n",
       "    }\n",
       "</style>\n",
       "<table border=\"1\" class=\"dataframe\">\n",
       "  <thead>\n",
       "    <tr style=\"text-align: right;\">\n",
       "      <th></th>\n",
       "      <th>population</th>\n",
       "      <th>density</th>\n",
       "    </tr>\n",
       "  </thead>\n",
       "  <tbody>\n",
       "    <tr>\n",
       "      <th>New York</th>\n",
       "      <td>19</td>\n",
       "      <td>0.134752</td>\n",
       "    </tr>\n",
       "    <tr>\n",
       "      <th>Florida</th>\n",
       "      <td>20</td>\n",
       "      <td>0.117647</td>\n",
       "    </tr>\n",
       "    <tr>\n",
       "      <th>Illinois</th>\n",
       "      <td>129</td>\n",
       "      <td>0.860000</td>\n",
       "    </tr>\n",
       "  </tbody>\n",
       "</table>\n",
       "</div>"
      ],
      "text/plain": [
       "          population   density\n",
       "New York          19  0.134752\n",
       "Florida           20  0.117647\n",
       "Illinois         129  0.860000"
      ]
     },
     "execution_count": 70,
     "metadata": {},
     "output_type": "execute_result"
    }
   ],
   "source": [
    "# select rows with density > 0.1( masking); cols => 'population','density'(fancy indexing)\n",
    "data.loc[data.density > 0.1, ['population', 'density']]"
   ]
  },
  {
   "cell_type": "code",
   "execution_count": 71,
   "id": "f44ee0e6-cd1d-496f-a787-465b8caad782",
   "metadata": {},
   "outputs": [
    {
     "data": {
      "text/html": [
       "<div>\n",
       "<style scoped>\n",
       "    .dataframe tbody tr th:only-of-type {\n",
       "        vertical-align: middle;\n",
       "    }\n",
       "\n",
       "    .dataframe tbody tr th {\n",
       "        vertical-align: top;\n",
       "    }\n",
       "\n",
       "    .dataframe thead th {\n",
       "        text-align: right;\n",
       "    }\n",
       "</style>\n",
       "<table border=\"1\" class=\"dataframe\">\n",
       "  <thead>\n",
       "    <tr style=\"text-align: right;\">\n",
       "      <th></th>\n",
       "      <th>area</th>\n",
       "      <th>population</th>\n",
       "      <th>density</th>\n",
       "    </tr>\n",
       "  </thead>\n",
       "  <tbody>\n",
       "    <tr>\n",
       "      <th>California</th>\n",
       "      <td>424</td>\n",
       "      <td>38</td>\n",
       "      <td>0.089623</td>\n",
       "    </tr>\n",
       "    <tr>\n",
       "      <th>Texas</th>\n",
       "      <td>696</td>\n",
       "      <td>26</td>\n",
       "      <td>0.037356</td>\n",
       "    </tr>\n",
       "    <tr>\n",
       "      <th>New York</th>\n",
       "      <td>141</td>\n",
       "      <td>19</td>\n",
       "      <td>0.134752</td>\n",
       "    </tr>\n",
       "    <tr>\n",
       "      <th>Florida</th>\n",
       "      <td>170</td>\n",
       "      <td>20</td>\n",
       "      <td>0.117647</td>\n",
       "    </tr>\n",
       "    <tr>\n",
       "      <th>Illinois</th>\n",
       "      <td>150</td>\n",
       "      <td>129</td>\n",
       "      <td>0.860000</td>\n",
       "    </tr>\n",
       "  </tbody>\n",
       "</table>\n",
       "</div>"
      ],
      "text/plain": [
       "            area  population   density\n",
       "California   424          38  0.089623\n",
       "Texas        696          26  0.037356\n",
       "New York     141          19  0.134752\n",
       "Florida      170          20  0.117647\n",
       "Illinois     150         129  0.860000"
      ]
     },
     "execution_count": 71,
     "metadata": {},
     "output_type": "execute_result"
    }
   ],
   "source": [
    "data"
   ]
  },
  {
   "cell_type": "code",
   "execution_count": 72,
   "id": "73f4b2bf-319b-4739-8884-bfd9f02e451e",
   "metadata": {},
   "outputs": [
    {
     "data": {
      "text/html": [
       "<div>\n",
       "<style scoped>\n",
       "    .dataframe tbody tr th:only-of-type {\n",
       "        vertical-align: middle;\n",
       "    }\n",
       "\n",
       "    .dataframe tbody tr th {\n",
       "        vertical-align: top;\n",
       "    }\n",
       "\n",
       "    .dataframe thead th {\n",
       "        text-align: right;\n",
       "    }\n",
       "</style>\n",
       "<table border=\"1\" class=\"dataframe\">\n",
       "  <thead>\n",
       "    <tr style=\"text-align: right;\">\n",
       "      <th></th>\n",
       "      <th>area</th>\n",
       "      <th>population</th>\n",
       "      <th>density</th>\n",
       "    </tr>\n",
       "  </thead>\n",
       "  <tbody>\n",
       "    <tr>\n",
       "      <th>California</th>\n",
       "      <td>424</td>\n",
       "      <td>38</td>\n",
       "      <td>0.990000</td>\n",
       "    </tr>\n",
       "    <tr>\n",
       "      <th>Texas</th>\n",
       "      <td>696</td>\n",
       "      <td>26</td>\n",
       "      <td>0.037356</td>\n",
       "    </tr>\n",
       "    <tr>\n",
       "      <th>New York</th>\n",
       "      <td>141</td>\n",
       "      <td>19</td>\n",
       "      <td>0.134752</td>\n",
       "    </tr>\n",
       "    <tr>\n",
       "      <th>Florida</th>\n",
       "      <td>170</td>\n",
       "      <td>20</td>\n",
       "      <td>0.117647</td>\n",
       "    </tr>\n",
       "    <tr>\n",
       "      <th>Illinois</th>\n",
       "      <td>150</td>\n",
       "      <td>129</td>\n",
       "      <td>0.860000</td>\n",
       "    </tr>\n",
       "  </tbody>\n",
       "</table>\n",
       "</div>"
      ],
      "text/plain": [
       "            area  population   density\n",
       "California   424          38  0.990000\n",
       "Texas        696          26  0.037356\n",
       "New York     141          19  0.134752\n",
       "Florida      170          20  0.117647\n",
       "Illinois     150         129  0.860000"
      ]
     },
     "execution_count": 72,
     "metadata": {},
     "output_type": "execute_result"
    }
   ],
   "source": [
    "data.iloc[0,2] = 0.99 # update row 0, col 2 to a new value\n",
    "data"
   ]
  },
  {
   "cell_type": "code",
   "execution_count": 73,
   "id": "970bbe90-d2e0-407a-9ae4-16e242b6efcb",
   "metadata": {},
   "outputs": [
    {
     "data": {
      "text/plain": [
       "California    424\n",
       "Texas         696\n",
       "New York      141\n",
       "Florida       170\n",
       "Illinois      150\n",
       "Name: area, dtype: int64"
      ]
     },
     "execution_count": 73,
     "metadata": {},
     "output_type": "execute_result"
    }
   ],
   "source": [
    "# data.area and data['area'] returns same output\n",
    "data['area'] \n",
    "# indexing refers to colums"
   ]
  },
  {
   "cell_type": "code",
   "execution_count": 74,
   "id": "76348e24-c63b-42ba-ab88-bd1c780b0d40",
   "metadata": {},
   "outputs": [
    {
     "data": {
      "text/html": [
       "<div>\n",
       "<style scoped>\n",
       "    .dataframe tbody tr th:only-of-type {\n",
       "        vertical-align: middle;\n",
       "    }\n",
       "\n",
       "    .dataframe tbody tr th {\n",
       "        vertical-align: top;\n",
       "    }\n",
       "\n",
       "    .dataframe thead th {\n",
       "        text-align: right;\n",
       "    }\n",
       "</style>\n",
       "<table border=\"1\" class=\"dataframe\">\n",
       "  <thead>\n",
       "    <tr style=\"text-align: right;\">\n",
       "      <th></th>\n",
       "      <th>area</th>\n",
       "      <th>population</th>\n",
       "      <th>density</th>\n",
       "    </tr>\n",
       "  </thead>\n",
       "  <tbody>\n",
       "    <tr>\n",
       "      <th>Texas</th>\n",
       "      <td>696</td>\n",
       "      <td>26</td>\n",
       "      <td>0.037356</td>\n",
       "    </tr>\n",
       "    <tr>\n",
       "      <th>New York</th>\n",
       "      <td>141</td>\n",
       "      <td>19</td>\n",
       "      <td>0.134752</td>\n",
       "    </tr>\n",
       "    <tr>\n",
       "      <th>Florida</th>\n",
       "      <td>170</td>\n",
       "      <td>20</td>\n",
       "      <td>0.117647</td>\n",
       "    </tr>\n",
       "  </tbody>\n",
       "</table>\n",
       "</div>"
      ],
      "text/plain": [
       "          area  population   density\n",
       "Texas      696          26  0.037356\n",
       "New York   141          19  0.134752\n",
       "Florida    170          20  0.117647"
      ]
     },
     "execution_count": 74,
     "metadata": {},
     "output_type": "execute_result"
    }
   ],
   "source": [
    "# slicing refers to rows\n",
    "data['Texas':'Florida']"
   ]
  },
  {
   "cell_type": "code",
   "execution_count": 75,
   "id": "4fe3039a-7c8f-4787-b1be-45aee050dbca",
   "metadata": {},
   "outputs": [
    {
     "data": {
      "text/html": [
       "<div>\n",
       "<style scoped>\n",
       "    .dataframe tbody tr th:only-of-type {\n",
       "        vertical-align: middle;\n",
       "    }\n",
       "\n",
       "    .dataframe tbody tr th {\n",
       "        vertical-align: top;\n",
       "    }\n",
       "\n",
       "    .dataframe thead th {\n",
       "        text-align: right;\n",
       "    }\n",
       "</style>\n",
       "<table border=\"1\" class=\"dataframe\">\n",
       "  <thead>\n",
       "    <tr style=\"text-align: right;\">\n",
       "      <th></th>\n",
       "      <th>area</th>\n",
       "      <th>population</th>\n",
       "      <th>density</th>\n",
       "    </tr>\n",
       "  </thead>\n",
       "  <tbody>\n",
       "    <tr>\n",
       "      <th>New York</th>\n",
       "      <td>141</td>\n",
       "      <td>19</td>\n",
       "      <td>0.134752</td>\n",
       "    </tr>\n",
       "    <tr>\n",
       "      <th>Florida</th>\n",
       "      <td>170</td>\n",
       "      <td>20</td>\n",
       "      <td>0.117647</td>\n",
       "    </tr>\n",
       "    <tr>\n",
       "      <th>Illinois</th>\n",
       "      <td>150</td>\n",
       "      <td>129</td>\n",
       "      <td>0.860000</td>\n",
       "    </tr>\n",
       "  </tbody>\n",
       "</table>\n",
       "</div>"
      ],
      "text/plain": [
       "          area  population   density\n",
       "New York   141          19  0.134752\n",
       "Florida    170          20  0.117647\n",
       "Illinois   150         129  0.860000"
      ]
     },
     "execution_count": 75,
     "metadata": {},
     "output_type": "execute_result"
    }
   ],
   "source": [
    "data[data.area <200]"
   ]
  },
  {
   "cell_type": "markdown",
   "id": "2135f2c6-84c8-474c-9fb0-c068648c0866",
   "metadata": {},
   "source": [
    "## Operating on Data in Pandas"
   ]
  },
  {
   "cell_type": "code",
   "execution_count": 77,
   "id": "9cc2fbf6-bede-40e1-a2b5-bd672d167f15",
   "metadata": {},
   "outputs": [
    {
     "data": {
      "text/plain": [
       "'\\nAs you saw, NumPy has the ability of perform quick element-wise operations, such as arithmetic\\n operations as well as more sophisticated operations, such as trigonometric functions, exponentials,\\n logarithms etc. Pandas inherits much of this functionality from NumPy.\\n In Pandas, for unary operations like negation, and trigonometric functions, the ufuncs preserve\\n index and column labels in the output. For binary operations, such as addition and multiplication,\\n Pandas automatically assigns indices when passing the objects to the ufuncs.\\n This means that keeping the context of data and combining data from different sources- both\\n potentially error-prone tasks with Numpy Arrays- become essentially fool-proof ones with Pandas.\\n '"
      ]
     },
     "execution_count": 77,
     "metadata": {},
     "output_type": "execute_result"
    }
   ],
   "source": [
    "'''\n",
    "As you saw, NumPy has the ability of perform quick element-wise operations, such as arithmetic\n",
    " operations as well as more sophisticated operations, such as trigonometric functions, exponentials,\n",
    " logarithms etc. Pandas inherits much of this functionality from NumPy.\n",
    " In Pandas, for unary operations like negation, and trigonometric functions, the ufuncs preserve\n",
    " index and column labels in the output. For binary operations, such as addition and multiplication,\n",
    " Pandas automatically assigns indices when passing the objects to the ufuncs.\n",
    " This means that keeping the context of data and combining data from different sources- both\n",
    " potentially error-prone tasks with Numpy Arrays- become essentially fool-proof ones with Pandas.\n",
    " '''"
   ]
  },
  {
   "cell_type": "code",
   "execution_count": 78,
   "id": "697ed60a-8f24-42da-be63-adcf57557166",
   "metadata": {},
   "outputs": [
    {
     "data": {
      "text/plain": [
       "0    6\n",
       "1    3\n",
       "2    7\n",
       "3    4\n",
       "dtype: int32"
      ]
     },
     "execution_count": 78,
     "metadata": {},
     "output_type": "execute_result"
    }
   ],
   "source": [
    "# Ufuncs: Index Preservation\n",
    "# Any NumPy ufuncs works on Pandas Series and DataFrame objects.\n",
    "\n",
    "import numpy as np\n",
    "import pandas as pd\n",
    "\n",
    "# creating a random number generator with fixed seed value of '42'\n",
    "rng = np.random.RandomState(42)\n",
    "# generates an array of 4 random integers betwween 0(inclusive) and 10(exclusive)\n",
    "ser = pd.Series(rng.randint(0, 10, 4)) # a series object\n",
    "ser"
   ]
  },
  {
   "cell_type": "code",
   "execution_count": 79,
   "id": "ece3f6f6-18eb-4e43-8800-94127eafe433",
   "metadata": {},
   "outputs": [],
   "source": [
    "# 'numpy' is used for numerical operations and manipulation.\n",
    "# 'pands' is used for data manipulation and analysis, particulary with tabular data\n"
   ]
  },
  {
   "cell_type": "code",
   "execution_count": 80,
   "id": "20fd5901-6344-4f94-8a23-ef62f6a99353",
   "metadata": {},
   "outputs": [
    {
     "data": {
      "text/html": [
       "<div>\n",
       "<style scoped>\n",
       "    .dataframe tbody tr th:only-of-type {\n",
       "        vertical-align: middle;\n",
       "    }\n",
       "\n",
       "    .dataframe tbody tr th {\n",
       "        vertical-align: top;\n",
       "    }\n",
       "\n",
       "    .dataframe thead th {\n",
       "        text-align: right;\n",
       "    }\n",
       "</style>\n",
       "<table border=\"1\" class=\"dataframe\">\n",
       "  <thead>\n",
       "    <tr style=\"text-align: right;\">\n",
       "      <th></th>\n",
       "      <th>A</th>\n",
       "      <th>B</th>\n",
       "      <th>C</th>\n",
       "      <th>D</th>\n",
       "    </tr>\n",
       "  </thead>\n",
       "  <tbody>\n",
       "    <tr>\n",
       "      <th>0</th>\n",
       "      <td>6</td>\n",
       "      <td>9</td>\n",
       "      <td>2</td>\n",
       "      <td>6</td>\n",
       "    </tr>\n",
       "    <tr>\n",
       "      <th>1</th>\n",
       "      <td>7</td>\n",
       "      <td>4</td>\n",
       "      <td>3</td>\n",
       "      <td>7</td>\n",
       "    </tr>\n",
       "    <tr>\n",
       "      <th>2</th>\n",
       "      <td>7</td>\n",
       "      <td>2</td>\n",
       "      <td>5</td>\n",
       "      <td>4</td>\n",
       "    </tr>\n",
       "  </tbody>\n",
       "</table>\n",
       "</div>"
      ],
      "text/plain": [
       "   A  B  C  D\n",
       "0  6  9  2  6\n",
       "1  7  4  3  7\n",
       "2  7  2  5  4"
      ]
     },
     "execution_count": 80,
     "metadata": {},
     "output_type": "execute_result"
    }
   ],
   "source": [
    "df = pd.DataFrame(rng.randint(0, 10, (3,4)), columns = ['A', 'B', 'C', 'D'])\n",
    "# dataframe object\n",
    "#The parameters (0, 10, (3, 4)) specify that the integers should be between 0 (inclusive) and 10 (exclusive), and the shape of the array should be (3, 4), meaning 3 rows and 4 columns.\n",
    "df"
   ]
  },
  {
   "cell_type": "code",
   "execution_count": 81,
   "id": "c71a0a8f-6147-4d03-8b56-09aedfb3949f",
   "metadata": {},
   "outputs": [
    {
     "data": {
      "text/plain": [
       "0     403.428793\n",
       "1      20.085537\n",
       "2    1096.633158\n",
       "3      54.598150\n",
       "dtype: float64"
      ]
     },
     "execution_count": 81,
     "metadata": {},
     "output_type": "execute_result"
    }
   ],
   "source": [
    "np.exp(ser)\n",
    "# exponential (e^element) of each element in the series"
   ]
  },
  {
   "cell_type": "code",
   "execution_count": 82,
   "id": "4380a00f-c927-4528-be3b-17e090cbe090",
   "metadata": {},
   "outputs": [
    {
     "data": {
      "text/html": [
       "<div>\n",
       "<style scoped>\n",
       "    .dataframe tbody tr th:only-of-type {\n",
       "        vertical-align: middle;\n",
       "    }\n",
       "\n",
       "    .dataframe tbody tr th {\n",
       "        vertical-align: top;\n",
       "    }\n",
       "\n",
       "    .dataframe thead th {\n",
       "        text-align: right;\n",
       "    }\n",
       "</style>\n",
       "<table border=\"1\" class=\"dataframe\">\n",
       "  <thead>\n",
       "    <tr style=\"text-align: right;\">\n",
       "      <th></th>\n",
       "      <th>A</th>\n",
       "      <th>B</th>\n",
       "      <th>C</th>\n",
       "      <th>D</th>\n",
       "    </tr>\n",
       "  </thead>\n",
       "  <tbody>\n",
       "    <tr>\n",
       "      <th>0</th>\n",
       "      <td>-1.000000</td>\n",
       "      <td>7.071068e-01</td>\n",
       "      <td>1.000000</td>\n",
       "      <td>-1.000000e+00</td>\n",
       "    </tr>\n",
       "    <tr>\n",
       "      <th>1</th>\n",
       "      <td>-0.707107</td>\n",
       "      <td>1.224647e-16</td>\n",
       "      <td>0.707107</td>\n",
       "      <td>-7.071068e-01</td>\n",
       "    </tr>\n",
       "    <tr>\n",
       "      <th>2</th>\n",
       "      <td>-0.707107</td>\n",
       "      <td>1.000000e+00</td>\n",
       "      <td>-0.707107</td>\n",
       "      <td>1.224647e-16</td>\n",
       "    </tr>\n",
       "  </tbody>\n",
       "</table>\n",
       "</div>"
      ],
      "text/plain": [
       "          A             B         C             D\n",
       "0 -1.000000  7.071068e-01  1.000000 -1.000000e+00\n",
       "1 -0.707107  1.224647e-16  0.707107 -7.071068e-01\n",
       "2 -0.707107  1.000000e+00 -0.707107  1.224647e-16"
      ]
     },
     "execution_count": 82,
     "metadata": {},
     "output_type": "execute_result"
    }
   ],
   "source": [
    "# a bit more complex calculation \n",
    "np.sin(df * np.pi/4)\n",
    "# sine of each element multipled by pi/4"
   ]
  },
  {
   "cell_type": "code",
   "execution_count": 163,
   "id": "cc787bfc-0bb6-4279-bd95-cc722106edf2",
   "metadata": {},
   "outputs": [
    {
     "data": {
      "text/html": [
       "<div>\n",
       "<style scoped>\n",
       "    .dataframe tbody tr th:only-of-type {\n",
       "        vertical-align: middle;\n",
       "    }\n",
       "\n",
       "    .dataframe tbody tr th {\n",
       "        vertical-align: top;\n",
       "    }\n",
       "\n",
       "    .dataframe thead th {\n",
       "        text-align: right;\n",
       "    }\n",
       "</style>\n",
       "<table border=\"1\" class=\"dataframe\">\n",
       "  <thead>\n",
       "    <tr style=\"text-align: right;\">\n",
       "      <th></th>\n",
       "      <th>A</th>\n",
       "      <th>B</th>\n",
       "      <th>C</th>\n",
       "      <th>D</th>\n",
       "    </tr>\n",
       "  </thead>\n",
       "  <tbody>\n",
       "    <tr>\n",
       "      <th>0</th>\n",
       "      <td>6</td>\n",
       "      <td>9</td>\n",
       "      <td>2</td>\n",
       "      <td>6</td>\n",
       "    </tr>\n",
       "    <tr>\n",
       "      <th>1</th>\n",
       "      <td>7</td>\n",
       "      <td>4</td>\n",
       "      <td>3</td>\n",
       "      <td>7</td>\n",
       "    </tr>\n",
       "    <tr>\n",
       "      <th>2</th>\n",
       "      <td>7</td>\n",
       "      <td>2</td>\n",
       "      <td>5</td>\n",
       "      <td>4</td>\n",
       "    </tr>\n",
       "  </tbody>\n",
       "</table>\n",
       "</div>"
      ],
      "text/plain": [
       "   A  B  C  D\n",
       "0  6  9  2  6\n",
       "1  7  4  3  7\n",
       "2  7  2  5  4"
      ]
     },
     "execution_count": 163,
     "metadata": {},
     "output_type": "execute_result"
    }
   ],
   "source": [
    "df"
   ]
  },
  {
   "cell_type": "code",
   "execution_count": null,
   "id": "3e322527-f817-49b2-a54f-4d5411a2bb74",
   "metadata": {},
   "outputs": [],
   "source": []
  }
 ],
 "metadata": {
  "kernelspec": {
   "display_name": "Python 3 (ipykernel)",
   "language": "python",
   "name": "python3"
  },
  "language_info": {
   "codemirror_mode": {
    "name": "ipython",
    "version": 3
   },
   "file_extension": ".py",
   "mimetype": "text/x-python",
   "name": "python",
   "nbconvert_exporter": "python",
   "pygments_lexer": "ipython3",
   "version": "3.12.4"
  },
  "widgets": {
   "application/vnd.jupyter.widget-state+json": {
    "state": {},
    "version_major": 2,
    "version_minor": 0
   }
  }
 },
 "nbformat": 4,
 "nbformat_minor": 5
}
