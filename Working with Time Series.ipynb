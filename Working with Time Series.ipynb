{
 "cells": [
  {
   "cell_type": "code",
   "execution_count": 1,
   "id": "287a9a09-26e4-43b3-8e7e-275b37c7db5e",
   "metadata": {},
   "outputs": [
    {
     "data": {
      "text/plain": [
       "'  Pandas has extensive set of tools for working with dates, times, and time-indexed data.\\n Date and time data comes in a few flavors. * Time stamps: reference particular moments in time\\n (for example- June 14, 2009 at 6:25 PM). * Time intervals and periods: reference a length of\\n time between a particular beginning and end point, for example- the year 2020. Periods usually\\n reference a special case of time intervals in which each interval is of uniform length and does not\\n overlap (e.g. 24 hour-long periods constituting days). * Time deltas or durations: reference an\\n exact length of time (e.g. a duration of 26.65 seconds)'"
      ]
     },
     "execution_count": 1,
     "metadata": {},
     "output_type": "execute_result"
    }
   ],
   "source": [
    "# Woriking with Time Series\n",
    "\n",
    "'''  Pandas has extensive set of tools for working with dates, times, and time-indexed data.\n",
    " Date and time data comes in a few flavors. * Time stamps: reference particular moments in time\n",
    " (for example- June 14, 2009 at 6:25 PM). * Time intervals and periods: reference a length of\n",
    " time between a particular beginning and end point, for example- the year 2020. Periods usually\n",
    " reference a special case of time intervals in which each interval is of uniform length and does not\n",
    " overlap (e.g. 24 hour-long periods constituting days). * Time deltas or durations: reference an\n",
    " exact length of time (e.g. a duration of 26.65 seconds)'''"
   ]
  },
  {
   "cell_type": "code",
   "execution_count": 5,
   "id": "44d8a905-a2dd-43fb-9d01-75407db49ef7",
   "metadata": {},
   "outputs": [
    {
     "data": {
      "text/plain": [
       "datetime.datetime(2016, 7, 24, 0, 0)"
      ]
     },
     "execution_count": 5,
     "metadata": {},
     "output_type": "execute_result"
    }
   ],
   "source": [
    "# Dates and Times in Python\n",
    "\n",
    "from datetime import datetime\n",
    "\n",
    "# manually build a date using datetime\n",
    "datetime(year=2016, month=7, day=24)"
   ]
  },
  {
   "cell_type": "code",
   "execution_count": 7,
   "id": "8e401fd8-d2af-43d9-9272-c860b09257eb",
   "metadata": {},
   "outputs": [
    {
     "data": {
      "text/plain": [
       "datetime.datetime(2019, 5, 3, 0, 0)"
      ]
     },
     "execution_count": 7,
     "metadata": {},
     "output_type": "execute_result"
    }
   ],
   "source": [
    "from dateutil import parser\n",
    "date = parser.parse(\"3rd of May, 2019\")\n",
    "date"
   ]
  },
  {
   "cell_type": "code",
   "execution_count": 11,
   "id": "a34383dd-ad0c-4733-8a39-a8f059ce9164",
   "metadata": {},
   "outputs": [
    {
     "data": {
      "text/plain": [
       "'Friday'"
      ]
     },
     "execution_count": 11,
     "metadata": {},
     "output_type": "execute_result"
    }
   ],
   "source": [
    "date.strftime('%A')\n",
    "# see the Python datetime documentation"
   ]
  },
  {
   "cell_type": "code",
   "execution_count": 17,
   "id": "3f985cdb-f33c-4305-ad8b-23025fc3ba37",
   "metadata": {},
   "outputs": [
    {
     "data": {
      "text/plain": [
       "Timestamp('1963-08-05 00:00:00')"
      ]
     },
     "execution_count": 17,
     "metadata": {},
     "output_type": "execute_result"
    }
   ],
   "source": [
    "# Dates and times in Pandas: Best of both worlds\n",
    "\n",
    "import pandas as pd\n",
    "import numpy as np\n",
    "date = pd.to_datetime('5th of August, 1963')\n",
    "date"
   ]
  },
  {
   "cell_type": "code",
   "execution_count": 21,
   "id": "a21250cc-04f9-4bd6-b570-9a232a2370ad",
   "metadata": {},
   "outputs": [
    {
     "data": {
      "text/plain": [
       "DatetimeIndex(['1963-08-05', '1963-08-06', '1963-08-07', '1963-08-08',\n",
       "               '1963-08-09', '1963-08-10', '1963-08-11', '1963-08-12',\n",
       "               '1963-08-13', '1963-08-14', '1963-08-15', '1963-08-16'],\n",
       "              dtype='datetime64[ns]', freq=None)"
      ]
     },
     "execution_count": 21,
     "metadata": {},
     "output_type": "execute_result"
    }
   ],
   "source": [
    "\n",
    "date + pd.to_timedelta(np.arange(12), 'D')"
   ]
  },
  {
   "cell_type": "code",
   "execution_count": 23,
   "id": "063fb2c2-98cc-422c-af2a-17f449e7c4a9",
   "metadata": {},
   "outputs": [
    {
     "data": {
      "text/plain": [
       "2015-04-25    0\n",
       "2015-06-02    1\n",
       "2016-07-19    2\n",
       "2016-09-20    3\n",
       "dtype: int64"
      ]
     },
     "execution_count": 23,
     "metadata": {},
     "output_type": "execute_result"
    }
   ],
   "source": [
    " import pandas as pd\n",
    " index = pd.DatetimeIndex(['2015-4-25','2015-6-2','2016-7-19','2016-9-20'])\n",
    " data = pd.Series([0, 1, 2, 3], index=index)\n",
    " data"
   ]
  },
  {
   "cell_type": "code",
   "execution_count": 25,
   "id": "7da5dca0-fd5c-46b5-8b9b-444cc34fc589",
   "metadata": {},
   "outputs": [
    {
     "data": {
      "text/plain": [
       "2015-04-25    0\n",
       "2015-06-02    1\n",
       "2016-07-19    2\n",
       "dtype: int64"
      ]
     },
     "execution_count": 25,
     "metadata": {},
     "output_type": "execute_result"
    }
   ],
   "source": [
    "data['2015-4-25': '2016-7-19']"
   ]
  },
  {
   "cell_type": "code",
   "execution_count": 27,
   "id": "893018ca-ab90-48ed-a059-f6e6b7b9048e",
   "metadata": {},
   "outputs": [
    {
     "data": {
      "text/plain": [
       "2016-07-19    2\n",
       "2016-09-20    3\n",
       "dtype: int64"
      ]
     },
     "execution_count": 27,
     "metadata": {},
     "output_type": "execute_result"
    }
   ],
   "source": [
    "data['2016']"
   ]
  },
  {
   "cell_type": "code",
   "execution_count": 31,
   "id": "eaee81b6-0c70-4f66-8641-73b5bdddbf0c",
   "metadata": {},
   "outputs": [
    {
     "data": {
      "text/plain": [
       "DatetimeIndex(['2016-02-28', '2020-07-15', '2018-06-05', '2017-08-06',\n",
       "               '2014-03-04'],\n",
       "              dtype='datetime64[ns]', freq=None)"
      ]
     },
     "execution_count": 31,
     "metadata": {},
     "output_type": "execute_result"
    }
   ],
   "source": [
    "from datetime import datetime\n",
    "dates = pd.to_datetime([datetime(2016,2,28), '15th of July, 2020',\n",
    "                        '2018-Jun-5', '08-06-2017', '20140304'])\n",
    "dates"
   ]
  },
  {
   "cell_type": "code",
   "execution_count": 33,
   "id": "2b1fbdcf-42bd-4943-9845-e13e835505a6",
   "metadata": {},
   "outputs": [
    {
     "data": {
      "text/plain": [
       "PeriodIndex(['2016-02-28', '2020-07-15', '2018-06-05', '2017-08-06',\n",
       "             '2014-03-04'],\n",
       "            dtype='period[D]')"
      ]
     },
     "execution_count": 33,
     "metadata": {},
     "output_type": "execute_result"
    }
   ],
   "source": [
    "dates.to_period('D')"
   ]
  },
  {
   "cell_type": "code",
   "execution_count": 35,
   "id": "4c69b42d-593a-447d-886c-15cb0ea4b4be",
   "metadata": {},
   "outputs": [
    {
     "data": {
      "text/plain": [
       "TimedeltaIndex(['0 days', '1599 days', '828 days', '525 days', '-726 days'], dtype='timedelta64[ns]', freq=None)"
      ]
     },
     "execution_count": 35,
     "metadata": {},
     "output_type": "execute_result"
    }
   ],
   "source": [
    " dates- dates[0]"
   ]
  },
  {
   "cell_type": "code",
   "execution_count": 37,
   "id": "557e94b0-dc63-4b44-8637-0be6744b4859",
   "metadata": {},
   "outputs": [
    {
     "data": {
      "text/plain": [
       "DatetimeIndex(['2015-02-03', '2015-02-04', '2015-02-05', '2015-02-06',\n",
       "               '2015-02-07'],\n",
       "              dtype='datetime64[ns]', freq='D')"
      ]
     },
     "execution_count": 37,
     "metadata": {},
     "output_type": "execute_result"
    }
   ],
   "source": [
    "pd.date_range('2015-02-03', '2015-02-07')"
   ]
  },
  {
   "cell_type": "code",
   "execution_count": 39,
   "id": "4f5ad901-2107-4e2d-8216-af6f27f4e188",
   "metadata": {},
   "outputs": [
    {
     "data": {
      "text/plain": [
       "DatetimeIndex(['2014-05-09', '2014-05-10', '2014-05-11', '2014-05-12',\n",
       "               '2014-05-13', '2014-05-14', '2014-05-15'],\n",
       "              dtype='datetime64[ns]', freq='D')"
      ]
     },
     "execution_count": 39,
     "metadata": {},
     "output_type": "execute_result"
    }
   ],
   "source": [
    "pd.date_range('2014-5-9', periods=7)"
   ]
  },
  {
   "cell_type": "code",
   "execution_count": 41,
   "id": "0305ade4-e4db-44a1-b97d-9ae23e5f262e",
   "metadata": {},
   "outputs": [
    {
     "name": "stderr",
     "output_type": "stream",
     "text": [
      "C:\\Users\\shres\\AppData\\Local\\Temp\\ipykernel_6412\\608698317.py:1: FutureWarning: 'H' is deprecated and will be removed in a future version, please use 'h' instead.\n",
      "  pd.date_range('2015-9-25', periods=7, freq='H')\n"
     ]
    },
    {
     "data": {
      "text/plain": [
       "DatetimeIndex(['2015-09-25 00:00:00', '2015-09-25 01:00:00',\n",
       "               '2015-09-25 02:00:00', '2015-09-25 03:00:00',\n",
       "               '2015-09-25 04:00:00', '2015-09-25 05:00:00',\n",
       "               '2015-09-25 06:00:00'],\n",
       "              dtype='datetime64[ns]', freq='h')"
      ]
     },
     "execution_count": 41,
     "metadata": {},
     "output_type": "execute_result"
    }
   ],
   "source": [
    "pd.date_range('2015-9-25', periods=7, freq='H')"
   ]
  },
  {
   "cell_type": "code",
   "execution_count": null,
   "id": "1dc32220-7563-4b6a-a127-31d78d9ce733",
   "metadata": {},
   "outputs": [],
   "source": []
  }
 ],
 "metadata": {
  "kernelspec": {
   "display_name": "Python 3 (ipykernel)",
   "language": "python",
   "name": "python3"
  },
  "language_info": {
   "codemirror_mode": {
    "name": "ipython",
    "version": 3
   },
   "file_extension": ".py",
   "mimetype": "text/x-python",
   "name": "python",
   "nbconvert_exporter": "python",
   "pygments_lexer": "ipython3",
   "version": "3.12.4"
  },
  "widgets": {
   "application/vnd.jupyter.widget-state+json": {
    "state": {},
    "version_major": 2,
    "version_minor": 0
   }
  }
 },
 "nbformat": 4,
 "nbformat_minor": 5
}
