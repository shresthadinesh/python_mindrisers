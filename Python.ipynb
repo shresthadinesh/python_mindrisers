{
 "cells": [
  {
   "cell_type": "markdown",
   "id": "ed1a7928-4b5f-44c3-a07f-2a58ca05d55c",
   "metadata": {},
   "source": [
    "## DAY 1 "
   ]
  },
  {
   "cell_type": "code",
   "execution_count": 8,
   "id": "1e56947c-3165-4379-b950-e7419b2dd741",
   "metadata": {},
   "outputs": [
    {
     "name": "stdout",
     "output_type": "stream",
     "text": [
      "Hello World\n"
     ]
    }
   ],
   "source": [
    "print(\"Hello World\")"
   ]
  },
  {
   "cell_type": "code",
   "execution_count": 35,
   "id": "904c320f-8f73-4c06-b41d-576d27e33cc5",
   "metadata": {},
   "outputs": [
    {
     "name": "stdout",
     "output_type": "stream",
     "text": [
      "Hello World !!\n"
     ]
    }
   ],
   "source": [
    "print('Hello World !!')\n",
    "# single notation denotes the string inside it.\n"
   ]
  },
  {
   "cell_type": "code",
   "execution_count": 13,
   "id": "9bcef121-59f1-4f2c-a91d-d08534edd922",
   "metadata": {},
   "outputs": [],
   "source": [
    "# This is the single line comment.\n"
   ]
  },
  {
   "cell_type": "code",
   "execution_count": 15,
   "id": "1c6bb389-032d-4acf-9036-2d8685911c84",
   "metadata": {},
   "outputs": [
    {
     "data": {
      "text/plain": [
       "' This is the multiline comment. '"
      ]
     },
     "execution_count": 15,
     "metadata": {},
     "output_type": "execute_result"
    }
   ],
   "source": [
    "\"\"\" This is the multiline comment. \"\"\"\n"
   ]
  },
  {
   "cell_type": "code",
   "execution_count": 17,
   "id": "1b1967a1-d17e-438a-a330-0879f41d758d",
   "metadata": {},
   "outputs": [
    {
     "data": {
      "text/plain": [
       "' This is also multiline comment. '"
      ]
     },
     "execution_count": 17,
     "metadata": {},
     "output_type": "execute_result"
    }
   ],
   "source": [
    "''' This is also multiline comment. '''\n"
   ]
  },
  {
   "cell_type": "code",
   "execution_count": 19,
   "id": "67560da5-3265-4c52-88a7-d9b48200df4e",
   "metadata": {},
   "outputs": [
    {
     "name": "stdout",
     "output_type": "stream",
     "text": [
      "x= 2\n",
      "X= 5\n"
     ]
    }
   ],
   "source": [
    "x = 2\n",
    "X = 5\n",
    "print('x=', x)\n",
    "print('X=', X)"
   ]
  },
  {
   "cell_type": "code",
   "execution_count": 33,
   "id": "3812c423-d3a2-4ef0-969e-5fd598a4ed48",
   "metadata": {},
   "outputs": [
    {
     "name": "stdout",
     "output_type": "stream",
     "text": [
      "name: Dinesh Shrestha\n",
      "address: Kathmandu\n"
     ]
    }
   ],
   "source": [
    "name = \"Dinesh Shrestha\"\n",
    "address = 'Kathmandu'\n",
    "print(\"name:\", name)\n",
    "print('address:', address )"
   ]
  },
  {
   "cell_type": "code",
   "execution_count": 41,
   "id": "54adc760-921e-45d4-8f99-60d143415924",
   "metadata": {},
   "outputs": [
    {
     "ename": "SyntaxError",
     "evalue": "invalid decimal literal (2808274893.py, line 1)",
     "output_type": "error",
     "traceback": [
      "\u001b[1;36m  Cell \u001b[1;32mIn[41], line 1\u001b[1;36m\u001b[0m\n\u001b[1;33m    10name = \"Dinesh\"\u001b[0m\n\u001b[1;37m     ^\u001b[0m\n\u001b[1;31mSyntaxError\u001b[0m\u001b[1;31m:\u001b[0m invalid decimal literal\n"
     ]
    }
   ],
   "source": [
    "10name = \"Dinesh\""
   ]
  },
  {
   "cell_type": "code",
   "execution_count": 45,
   "id": "b03e2a3c-2025-48d5-a63f-fccc42db5096",
   "metadata": {},
   "outputs": [
    {
     "name": "stdout",
     "output_type": "stream",
     "text": [
      "Dinesh\n"
     ]
    }
   ],
   "source": [
    "name10 = \"Dinesh\"\n",
    "print(name10)"
   ]
  },
  {
   "cell_type": "code",
   "execution_count": 58,
   "id": "a1c7e2f9-98b3-40cf-b0e3-305cb96aacd1",
   "metadata": {},
   "outputs": [
    {
     "name": "stdout",
     "output_type": "stream",
     "text": [
      "Name: Dinesh Shrestha and Age: 22\n",
      "<class 'str'>\n"
     ]
    }
   ],
   "source": [
    "name = \"Dinesh Shrestha\"\n",
    "age = 22\n",
    "print('Name:',name + \" \" + 'and Age:', age)\n",
    "print(type(name))"
   ]
  },
  {
   "cell_type": "code",
   "execution_count": 82,
   "id": "8a789cbc-1031-4778-a2cd-683ccd84e835",
   "metadata": {},
   "outputs": [
    {
     "name": "stdout",
     "output_type": "stream",
     "text": [
      "<class 'str'>\n",
      "<class 'int'>\n",
      "<class 'set'>\n",
      "<class 'tuple'>\n",
      "<class 'list'>\n"
     ]
    }
   ],
   "source": [
    "name = 'Dinesh'\n",
    "age = 22\n",
    "fruits = {'apple', 'banana', 'mango'}\n",
    "# curly braces is used for the set\n",
    "colors = ['red', 'blue', 'balck']\n",
    "# square brackets used for the list\n",
    "countries = ('Nepal', 'China', 'India')\n",
    "# parenthensis used for the tuple\n",
    "print(type(name))\n",
    "print(type(age))\n",
    "print(type(fruits))\n",
    "print(type(countries))\n",
    "print(type(colors))\n",
    "\n"
   ]
  },
  {
   "cell_type": "code",
   "execution_count": 80,
   "id": "2b33a11a-6d16-4657-96a3-cb2efcc0d44a",
   "metadata": {},
   "outputs": [
    {
     "name": "stdout",
     "output_type": "stream",
     "text": [
      "10.55\n",
      "<class 'int'>\n",
      "<class 'str'>\n",
      "<class 'float'>\n"
     ]
    }
   ],
   "source": [
    "int_var = int(10)\n",
    "str_var = str(15)\n",
    "float_var = float(\"10.55\")\n",
    "\n",
    "print(float_var)\n",
    "print(type(int_var))\n",
    "print(type(str_var))\n",
    "print(type(float_var))\n",
    "\n"
   ]
  },
  {
   "cell_type": "markdown",
   "id": "76008ae8-b40e-4159-87cc-19af05b143fc",
   "metadata": {},
   "source": [
    "## Day 2"
   ]
  },
  {
   "cell_type": "code",
   "execution_count": 2,
   "id": "ca8ca6dd-ca8f-4d7b-9bc6-f4b2534d98b4",
   "metadata": {},
   "outputs": [
    {
     "name": "stderr",
     "output_type": "stream",
     "text": [
      "<>:1: SyntaxWarning: 'int' object is not callable; perhaps you missed a comma?\n",
      "<>:1: SyntaxWarning: 'int' object is not callable; perhaps you missed a comma?\n",
      "C:\\Users\\shres\\AppData\\Local\\Temp\\ipykernel_9724\\2117196371.py:1: SyntaxWarning: 'int' object is not callable; perhaps you missed a comma?\n",
      "  print(7(3+8-4)/6)\n"
     ]
    },
    {
     "ename": "TypeError",
     "evalue": "'int' object is not callable",
     "output_type": "error",
     "traceback": [
      "\u001b[1;31m---------------------------------------------------------------------------\u001b[0m",
      "\u001b[1;31mTypeError\u001b[0m                                 Traceback (most recent call last)",
      "Cell \u001b[1;32mIn[2], line 1\u001b[0m\n\u001b[1;32m----> 1\u001b[0m \u001b[38;5;28mprint\u001b[39m(\u001b[38;5;241;43m7\u001b[39;49m\u001b[43m(\u001b[49m\u001b[38;5;241;43m3\u001b[39;49m\u001b[38;5;241;43m+\u001b[39;49m\u001b[38;5;241;43m8\u001b[39;49m\u001b[38;5;241;43m-\u001b[39;49m\u001b[38;5;241;43m4\u001b[39;49m\u001b[43m)\u001b[49m\u001b[38;5;241m/\u001b[39m\u001b[38;5;241m6\u001b[39m)\n",
      "\u001b[1;31mTypeError\u001b[0m: 'int' object is not callable"
     ]
    }
   ],
   "source": [
    "print(7(3+8-4)/6)"
   ]
  },
  {
   "cell_type": "code",
   "execution_count": 4,
   "id": "8c9278f1-b01a-46f6-9628-541e9876454e",
   "metadata": {},
   "outputs": [
    {
     "name": "stdout",
     "output_type": "stream",
     "text": [
      "Dinesh\n"
     ]
    }
   ],
   "source": [
    "print('Dinesh')"
   ]
  },
  {
   "cell_type": "code",
   "execution_count": 6,
   "id": "a9499f05-680c-4564-80f6-2103065a1405",
   "metadata": {},
   "outputs": [
    {
     "name": "stdout",
     "output_type": "stream",
     "text": [
      "8\n"
     ]
    }
   ],
   "source": [
    "# assignment operator\n",
    "x = 5\n",
    "\n",
    "x += 3\n",
    "\n",
    "print(x)"
   ]
  },
  {
   "cell_type": "code",
   "execution_count": 16,
   "id": "ec09390f-1399-4545-8871-b72133a822e1",
   "metadata": {},
   "outputs": [
    {
     "name": "stdout",
     "output_type": "stream",
     "text": [
      "True\n",
      "True\n",
      "False\n"
     ]
    }
   ],
   "source": [
    "# comparision operator\n",
    "\n",
    "x = 8\n",
    "y = 8\n",
    "print(x==y)\n",
    "print(x<=y)\n",
    "print(x<y)\n"
   ]
  },
  {
   "cell_type": "code",
   "execution_count": 20,
   "id": "de8fa3ee-9f4b-4e33-b9b3-af9beb70374b",
   "metadata": {},
   "outputs": [
    {
     "data": {
      "text/plain": [
       "False"
      ]
     },
     "execution_count": 20,
     "metadata": {},
     "output_type": "execute_result"
    }
   ],
   "source": [
    "# logical operator\n",
    "# Logical operators are used to combine conditional statements:\n",
    "a = 2\n",
    "b = 3\n",
    "\n",
    "a > 2 and b > 2\n"
   ]
  },
  {
   "cell_type": "code",
   "execution_count": 24,
   "id": "708833a9-bdfd-4e94-9760-31cd62a625f5",
   "metadata": {},
   "outputs": [
    {
     "name": "stdout",
     "output_type": "stream",
     "text": [
      "True\n"
     ]
    }
   ],
   "source": [
    "x = 5\n",
    "\n",
    "print(x > 3 or x < 4)\n",
    "\n",
    "# returns True because one of the conditions are true (5 is greater than 3, but 5 is not less than 4)\n",
    "\n"
   ]
  },
  {
   "cell_type": "code",
   "execution_count": 26,
   "id": "c69e1824-34b4-4297-ad93-53ebb5a34f65",
   "metadata": {},
   "outputs": [
    {
     "name": "stdout",
     "output_type": "stream",
     "text": [
      "False\n"
     ]
    }
   ],
   "source": [
    "x = 5\n",
    "\n",
    "print(not(x > 3 and x < 10))\n",
    "\n",
    "# returns False because not is used to reverse the result"
   ]
  },
  {
   "cell_type": "code",
   "execution_count": 28,
   "id": "f8ecdea5-90f2-4e14-b016-a712395f8ec0",
   "metadata": {},
   "outputs": [
    {
     "data": {
      "text/plain": [
       "''"
      ]
     },
     "execution_count": 28,
     "metadata": {},
     "output_type": "execute_result"
    }
   ],
   "source": [
    "'' and whatever\n",
    "# '' (empty string) is boolean false"
   ]
  },
  {
   "cell_type": "code",
   "execution_count": 32,
   "id": "3e55ab26-ea8e-4d71-80e0-5de3887ea675",
   "metadata": {},
   "outputs": [
    {
     "data": {
      "text/plain": [
       "False"
      ]
     },
     "execution_count": 32,
     "metadata": {},
     "output_type": "execute_result"
    }
   ],
   "source": [
    "False and whatever"
   ]
  },
  {
   "cell_type": "code",
   "execution_count": 36,
   "id": "d4a6ac64-ca3f-4f0c-95d3-d9c44d84e4aa",
   "metadata": {},
   "outputs": [
    {
     "data": {
      "text/plain": [
       "[]"
      ]
     },
     "execution_count": 36,
     "metadata": {},
     "output_type": "execute_result"
    }
   ],
   "source": [
    "[] and whatever\n",
    "\n",
    "# empty list, dic, tuples are all boolean false"
   ]
  },
  {
   "cell_type": "code",
   "execution_count": 40,
   "id": "2967acf2-46f7-4105-a27e-8189b989875f",
   "metadata": {},
   "outputs": [
    {
     "data": {
      "text/plain": [
       "True"
      ]
     },
     "execution_count": 40,
     "metadata": {},
     "output_type": "execute_result"
    }
   ],
   "source": [
    "True or whatever "
   ]
  },
  {
   "cell_type": "code",
   "execution_count": 44,
   "id": "3787bd68-7a14-496f-9e7e-13db33518f4e",
   "metadata": {},
   "outputs": [
    {
     "data": {
      "text/plain": [
       "'Hello'"
      ]
     },
     "execution_count": 44,
     "metadata": {},
     "output_type": "execute_result"
    }
   ],
   "source": [
    "'Hello' or whatever"
   ]
  },
  {
   "cell_type": "code",
   "execution_count": 46,
   "id": "e2ddb709-4d4a-4dd4-b1be-c6a877b16d7c",
   "metadata": {},
   "outputs": [
    {
     "data": {
      "text/plain": [
       "False"
      ]
     },
     "execution_count": 46,
     "metadata": {},
     "output_type": "execute_result"
    }
   ],
   "source": [
    "# Precedence rules\n",
    "# 1. Not\n",
    "# 2. And\n",
    "# 3. Or\n",
    "\n",
    "False or True and not True "
   ]
  },
  {
   "cell_type": "code",
   "execution_count": 50,
   "id": "1c46c59d-990d-4fc2-aa5c-ed2b2402e827",
   "metadata": {},
   "outputs": [
    {
     "data": {
      "text/plain": [
       "True"
      ]
     },
     "execution_count": 50,
     "metadata": {},
     "output_type": "execute_result"
    }
   ],
   "source": [
    "# Identity Operator\n",
    "\n",
    "x = 3\n",
    "type(x) is int"
   ]
  },
  {
   "cell_type": "code",
   "execution_count": 52,
   "id": "c367beba-4812-4ead-a203-0755fcfb2e87",
   "metadata": {},
   "outputs": [
    {
     "name": "stdout",
     "output_type": "stream",
     "text": [
      "False\n",
      "True\n",
      "False\n"
     ]
    }
   ],
   "source": [
    "x = [\"apple\", \"banana\"]\n",
    "y = [\"apple\", \"banana\"]\n",
    "z = x\n",
    "\n",
    "print(x is not z)\n",
    "\n",
    "# returns False because z is the same object as x\n",
    "\n",
    "print(x is not y)\n",
    "\n",
    "# returns True because x is not the same object as y, even if they have the same content\n",
    "\n",
    "print(x != y)\n",
    "\n",
    "# to demonstrate the difference betweeen \"is not\" and \"!=\": this comparison returns False because x is equal to y\n"
   ]
  },
  {
   "cell_type": "code",
   "execution_count": 54,
   "id": "68d8e576-d3d4-4eaf-a7d4-f3e0801d4341",
   "metadata": {},
   "outputs": [
    {
     "data": {
      "text/plain": [
       "True"
      ]
     },
     "execution_count": 54,
     "metadata": {},
     "output_type": "execute_result"
    }
   ],
   "source": [
    "# Membership Operator \n",
    "\n",
    "'h' in 'hello'"
   ]
  },
  {
   "cell_type": "code",
   "execution_count": 56,
   "id": "f63aa3de-fc70-4a45-b9be-91a4db631f73",
   "metadata": {},
   "outputs": [
    {
     "name": "stdout",
     "output_type": "stream",
     "text": [
      "True\n"
     ]
    }
   ],
   "source": [
    "x = [\"apple\", \"banana\"]\n",
    "\n",
    "print(\"banana\" in x)\n",
    "\n",
    "# returns True because a sequence with the value \"banana\" is in the list\n"
   ]
  },
  {
   "cell_type": "code",
   "execution_count": 58,
   "id": "d651867d-c145-4588-9110-fefe26a78205",
   "metadata": {},
   "outputs": [
    {
     "name": "stdout",
     "output_type": "stream",
     "text": [
      "True\n"
     ]
    }
   ],
   "source": [
    "x = [\"apple\", \"banana\"]\n",
    "\n",
    "print(\"pineapple\" not in x)\n",
    "\n",
    "# returns True because a sequence with the value \"pineapple\" is not in the list\n"
   ]
  },
  {
   "cell_type": "code",
   "execution_count": 64,
   "id": "9bae44a8-52a2-4507-b448-d59b3f50da81",
   "metadata": {},
   "outputs": [
    {
     "data": {
      "text/plain": [
       "2"
      ]
     },
     "execution_count": 64,
     "metadata": {},
     "output_type": "execute_result"
    }
   ],
   "source": [
    "# Bitwise Operators\n",
    "# Bitwise operators are used to compare (binary) numbers:\n",
    "2 & 3\n"
   ]
  },
  {
   "cell_type": "code",
   "execution_count": 70,
   "id": "04d43957-a207-4362-a11d-8d1a36845364",
   "metadata": {},
   "outputs": [
    {
     "data": {
      "text/plain": [
       "6"
      ]
     },
     "execution_count": 70,
     "metadata": {},
     "output_type": "execute_result"
    }
   ],
   "source": [
    "5 and 6 # gives random values "
   ]
  },
  {
   "cell_type": "code",
   "execution_count": 68,
   "id": "2ad0fa27-261d-454f-83c5-dd72a74161a0",
   "metadata": {},
   "outputs": [
    {
     "data": {
      "text/plain": [
       "5"
      ]
     },
     "execution_count": 68,
     "metadata": {},
     "output_type": "execute_result"
    }
   ],
   "source": [
    "6 and 5"
   ]
  },
  {
   "cell_type": "raw",
   "id": "71d634ff-6d5b-4bba-8bed-369d5befcfea",
   "metadata": {},
   "source": [
    "print(6 & 3)\n",
    "\n",
    "\n",
    "\n",
    "\"\"\"\n",
    "The & operator compares each bit and set it to 1 if both are 1, otherwise it is set to 0:\n",
    "\n",
    "6 = 0000000000000110\n",
    "3 = 0000000000000011\n",
    "--------------------\n",
    "2 = 0000000000000010\n",
    "====================\n",
    "\n",
    "Decimal numbers and their binary values:\n",
    "0 = 0000000000000000\n",
    "1 = 0000000000000001\n",
    "2 = 0000000000000010\n",
    "3 = 0000000000000011\n",
    "4 = 0000000000000100\n",
    "5 = 0000000000000101\n",
    "6 = 0000000000000110\n",
    "7 = 0000000000000111\n",
    "\n",
    "\n"
   ]
  },
  {
   "cell_type": "markdown",
   "id": "fa4a91e8-59f2-4fbb-91bb-a89edd9e775b",
   "metadata": {},
   "source": [
    "## DAY 3"
   ]
  },
  {
   "cell_type": "code",
   "execution_count": 8,
   "id": "467f3129-e92b-465a-8efc-76c7ae3b9c88",
   "metadata": {},
   "outputs": [
    {
     "name": "stdout",
     "output_type": "stream",
     "text": [
      "['sunday', 'monday', 'tuesday', 'wednesday', 'thursday', 'friday', 'saturday']\n"
     ]
    }
   ],
   "source": [
    "days_of_week = [ 'sunday', 'monday', 'tuesday','wednesday','thursday','friday','saturday']\n",
    "print(days_of_week)"
   ]
  },
  {
   "cell_type": "code",
   "execution_count": 9,
   "id": "abe080d1-9b9a-4164-b154-a998b1177e3f",
   "metadata": {},
   "outputs": [
    {
     "name": "stdout",
     "output_type": "stream",
     "text": [
      "friday\n"
     ]
    }
   ],
   "source": [
    "print(days_of_week[5])"
   ]
  },
  {
   "cell_type": "code",
   "execution_count": 11,
   "id": "4ef42200-bb6a-4969-8ea4-6bce972cc057",
   "metadata": {},
   "outputs": [
    {
     "name": "stdout",
     "output_type": "stream",
     "text": [
      "tuesday\n"
     ]
    }
   ],
   "source": [
    "print(days_of_week[-5])\n"
   ]
  },
  {
   "cell_type": "code",
   "execution_count": 18,
   "id": "5c42e7e2-66cb-4bad-869a-72ee7bb02b52",
   "metadata": {},
   "outputs": [
    {
     "name": "stdout",
     "output_type": "stream",
     "text": [
      "['friday', 'saturday']\n"
     ]
    }
   ],
   "source": [
    "print(days_of_week[5:])\n",
    "# item 5, 6 will be selected\n"
   ]
  },
  {
   "cell_type": "code",
   "execution_count": 23,
   "id": "94f5bee7-e602-40b0-be72-23368856a1fc",
   "metadata": {},
   "outputs": [
    {
     "data": {
      "text/plain": [
       "['sunday', 'monday', 'tuesday', 'wed', 'thursday', 'friday', 'saturday']"
      ]
     },
     "execution_count": 23,
     "metadata": {},
     "output_type": "execute_result"
    }
   ],
   "source": [
    "days_of_week[3] = ['wed']\n",
    "days_of_week"
   ]
  },
  {
   "cell_type": "code",
   "execution_count": 32,
   "id": "e5a8a92a-b830-4585-b7ae-863328c38f98",
   "metadata": {},
   "outputs": [
    {
     "data": {
      "text/plain": [
       "['sun', 'mon', 'tue', 'wed', 'thursday', 'friday', 'saturday']"
      ]
     },
     "execution_count": 32,
     "metadata": {},
     "output_type": "execute_result"
    }
   ],
   "source": [
    "days_of_week[0:2] = ['sun','mon']\n",
    "days_of_week"
   ]
  },
  {
   "cell_type": "code",
   "execution_count": 35,
   "id": "0ce96c65-bc1b-4764-b197-85ea612bf1eb",
   "metadata": {},
   "outputs": [
    {
     "data": {
      "text/plain": [
       "['sun', 'mon', 'tue', 'wed', 'thursday', 'fri', 'sat', 'sat', 'saturday']"
      ]
     },
     "execution_count": 35,
     "metadata": {},
     "output_type": "execute_result"
    }
   ],
   "source": [
    "days_of_week[5:6] = [\"fri\",\"sat\"]\n",
    "days_of_week\n",
    "\n",
    "# it's overwrite the value of 6\n"
   ]
  },
  {
   "cell_type": "code",
   "execution_count": 34,
   "id": "08b61f3d-7883-44aa-84df-1ebaa23d7dc9",
   "metadata": {},
   "outputs": [
    {
     "name": "stdout",
     "output_type": "stream",
     "text": [
      "['tue', 'wed', 'thursday']\n"
     ]
    }
   ],
   "source": [
    "print(days_of_week[2:5])\n",
    "# include the 2(tuesday) and exclude 5(friday)\n"
   ]
  },
  {
   "cell_type": "code",
   "execution_count": 37,
   "id": "56a25239-e1da-4c31-b2ca-341b20283967",
   "metadata": {},
   "outputs": [
    {
     "data": {
      "text/plain": [
       "['sun', 'mon', 'thursday', 'fri', 'sat', 'sat', 'saturday']"
      ]
     },
     "execution_count": 37,
     "metadata": {},
     "output_type": "execute_result"
    }
   ],
   "source": [
    "days_of_week[1:3] = ['mon']\n",
    "days_of_week\n",
    "\n",
    "# if we give the 2 indexes and assign 1 value then 1 will be deleted (Like 'tue' is deleted)"
   ]
  },
  {
   "cell_type": "code",
   "execution_count": 21,
   "id": "04b748a0-bb7a-40a9-8150-c06e9028494c",
   "metadata": {},
   "outputs": [
    {
     "name": "stdout",
     "output_type": "stream",
     "text": [
      "<class 'list'>\n"
     ]
    }
   ],
   "source": [
    "list1 = ['apple','cherry','banana']\n",
    "list2 = [1,4,6]\n",
    "list3 = [True, False, True]\n",
    "list4 = ['dineh', 22, True, 'kathmandu']\n",
    "print(type(list3))\n"
   ]
  },
  {
   "cell_type": "code",
   "execution_count": 41,
   "id": "54661baa-24d7-49aa-9e94-8607038d4c59",
   "metadata": {},
   "outputs": [
    {
     "data": {
      "text/plain": [
       "['apple', 'cherry', 'banana', 'grapes']"
      ]
     },
     "execution_count": 41,
     "metadata": {},
     "output_type": "execute_result"
    }
   ],
   "source": [
    "list1 = ['apple','cherry','banana']\n",
    "list1.insert(3,'grapes')\n",
    "list1\n",
    "\n",
    "# dot(.) is used to perform any operation, like here .insert is used for inserting value where 3 is the index\n",
    "# here the  operation is performing in list1\n"
   ]
  },
  {
   "cell_type": "code",
   "execution_count": 43,
   "id": "d7a3f8e3-9cd9-447d-9493-9c59838915c8",
   "metadata": {},
   "outputs": [
    {
     "data": {
      "text/plain": [
       "['apple', 'cherry', 'banana', 'orange', 'orange', 'grapes']"
      ]
     },
     "execution_count": 43,
     "metadata": {},
     "output_type": "execute_result"
    }
   ],
   "source": [
    "list1.insert(-1, 'orange')\n",
    "list1"
   ]
  },
  {
   "cell_type": "code",
   "execution_count": 45,
   "id": "b4bb8df5-e4f5-4ebb-8122-c446b9bd472e",
   "metadata": {},
   "outputs": [
    {
     "data": {
      "text/plain": [
       "['apple', 'cherry', 'banana', 'orange', 'orange', 'grapes', 'mango', 'mango']"
      ]
     },
     "execution_count": 45,
     "metadata": {},
     "output_type": "execute_result"
    }
   ],
   "source": [
    "list1.append('mango')\n",
    "list1"
   ]
  },
  {
   "cell_type": "code",
   "execution_count": 46,
   "id": "5701b94e-4e24-4ec5-b363-6fe8104aa4ef",
   "metadata": {},
   "outputs": [
    {
     "data": {
      "text/plain": [
       "[1, 2, 3, 4, 5, 6]"
      ]
     },
     "execution_count": 46,
     "metadata": {},
     "output_type": "execute_result"
    }
   ],
   "source": [
    "list2 = [1,2,3,4,5]\n",
    "list2.append(6)\n",
    "list2\n"
   ]
  },
  {
   "cell_type": "code",
   "execution_count": 62,
   "id": "0663b538-40af-44e8-adca-d0fb1df7e782",
   "metadata": {},
   "outputs": [
    {
     "data": {
      "text/plain": [
       "[1, 2, 3, 6, 8, 7, 8, 7, 8, 7, 8, 7, 8, 7, 8, 7, 8, 7, 8, 7, 8]"
      ]
     },
     "execution_count": 62,
     "metadata": {},
     "output_type": "execute_result"
    }
   ],
   "source": [
    "added = [7,8]\n",
    "list2.extend(added)\n",
    "list2\n",
    "list2.remove(7)\n",
    "list2"
   ]
  },
  {
   "cell_type": "code",
   "execution_count": 51,
   "id": "8456788b-fddc-41d1-a386-51837d649ad1",
   "metadata": {},
   "outputs": [
    {
     "ename": "ValueError",
     "evalue": "list.remove(x): x not in list",
     "output_type": "error",
     "traceback": [
      "\u001b[1;31m---------------------------------------------------------------------------\u001b[0m",
      "\u001b[1;31mValueError\u001b[0m                                Traceback (most recent call last)",
      "Cell \u001b[1;32mIn[51], line 1\u001b[0m\n\u001b[1;32m----> 1\u001b[0m \u001b[43mlist2\u001b[49m\u001b[38;5;241;43m.\u001b[39;49m\u001b[43mremove\u001b[49m\u001b[43m(\u001b[49m\u001b[38;5;241;43m5\u001b[39;49m\u001b[43m)\u001b[49m\n\u001b[0;32m      2\u001b[0m list2\n",
      "\u001b[1;31mValueError\u001b[0m: list.remove(x): x not in list"
     ]
    }
   ],
   "source": [
    "list2.remove(5)\n",
    "list2"
   ]
  },
  {
   "cell_type": "code",
   "execution_count": 56,
   "id": "6f85a1ae-b5f1-4766-9edf-a9d5230e67dc",
   "metadata": {},
   "outputs": [
    {
     "data": {
      "text/plain": [
       "[1, 2, 3, 6, 7, 8, 7, 8, 7, 8]"
      ]
     },
     "execution_count": 56,
     "metadata": {},
     "output_type": "execute_result"
    }
   ],
   "source": [
    "list2.remove(4)\n",
    "list2"
   ]
  },
  {
   "cell_type": "code",
   "execution_count": 66,
   "id": "64244f97-e267-44af-9632-6ff6840814b0",
   "metadata": {},
   "outputs": [
    {
     "data": {
      "text/plain": [
       "['apple', 'cherry', 'banana', 'orange', 'orange']"
      ]
     },
     "execution_count": 66,
     "metadata": {},
     "output_type": "execute_result"
    }
   ],
   "source": [
    "fruit = ['apple', 'cherry', 'banana', 'orange', 'orange', 'grapes']\n",
    "fruit.pop()\n",
    "fruit\n",
    "# pop removed the last item\n"
   ]
  },
  {
   "cell_type": "code",
   "execution_count": 67,
   "id": "7191decf-3888-48f4-b9b1-910b0721a128",
   "metadata": {},
   "outputs": [
    {
     "ename": "SyntaxError",
     "evalue": "invalid syntax (1936559527.py, line 1)",
     "output_type": "error",
     "traceback": [
      "\u001b[1;36m  Cell \u001b[1;32mIn[67], line 1\u001b[1;36m\u001b[0m\n\u001b[1;33m    del fruit[]\u001b[0m\n\u001b[1;37m              ^\u001b[0m\n\u001b[1;31mSyntaxError\u001b[0m\u001b[1;31m:\u001b[0m invalid syntax\n"
     ]
    }
   ],
   "source": [
    "del fruit[]\n",
    "fruit"
   ]
  },
  {
   "cell_type": "code",
   "execution_count": 69,
   "id": "c2ddb6fd-a155-4014-a694-6be3a2569d15",
   "metadata": {},
   "outputs": [
    {
     "data": {
      "text/plain": [
       "['apple', 'cherry', 'banana']"
      ]
     },
     "execution_count": 69,
     "metadata": {},
     "output_type": "execute_result"
    }
   ],
   "source": [
    "del fruit[3:4]\n",
    "fruit"
   ]
  },
  {
   "cell_type": "code",
   "execution_count": 71,
   "id": "b6a9aad2-108b-41bf-8018-8b48de8d4184",
   "metadata": {},
   "outputs": [
    {
     "data": {
      "text/plain": [
       "[]"
      ]
     },
     "execution_count": 71,
     "metadata": {},
     "output_type": "execute_result"
    }
   ],
   "source": [
    "fruit.clear()\n",
    "fruit"
   ]
  },
  {
   "cell_type": "code",
   "execution_count": 73,
   "id": "7622b428-8ab0-4ea5-8b76-dbd1a0c5e27c",
   "metadata": {},
   "outputs": [
    {
     "data": {
      "text/plain": [
       "['april', 'feburary', 'january', 'july', 'june', 'march', 'may']"
      ]
     },
     "execution_count": 73,
     "metadata": {},
     "output_type": "execute_result"
    }
   ],
   "source": [
    "month_list = ['january' , 'feburary' , 'march', 'april', 'may', 'june', 'july']\n",
    "month_list.sort()\n",
    "month_list\n",
    "\n",
    "# sort list alphanumerically"
   ]
  },
  {
   "cell_type": "code",
   "execution_count": 75,
   "id": "76c699e9-1a3e-4bfc-8d55-792c8708fc79",
   "metadata": {},
   "outputs": [
    {
     "data": {
      "text/plain": [
       "[1990, 1998, 2001, 2005, 2010]"
      ]
     },
     "execution_count": 75,
     "metadata": {},
     "output_type": "execute_result"
    }
   ],
   "source": [
    "year_list = [1998, 2001, 1990, 2010, 2005]\n",
    "year_list.sort()\n",
    "year_list\n",
    "\n",
    "# sort list numerically"
   ]
  },
  {
   "cell_type": "code",
   "execution_count": 77,
   "id": "4beb8956-04aa-4136-93c2-dc21878ca322",
   "metadata": {},
   "outputs": [
    {
     "data": {
      "text/plain": [
       "[2010, 2005, 2001, 1998, 1990]"
      ]
     },
     "execution_count": 77,
     "metadata": {},
     "output_type": "execute_result"
    }
   ],
   "source": [
    "year_list.sort(reverse = True)\n",
    "year_list\n",
    "\n",
    "# reserve=True is used for the decending order "
   ]
  },
  {
   "cell_type": "code",
   "execution_count": 80,
   "id": "05060622-b521-4d3e-abe0-6ded8e284e58",
   "metadata": {},
   "outputs": [
    {
     "data": {
      "text/plain": [
       "['Kiwi', 'Orange', 'banana', 'cherry']"
      ]
     },
     "execution_count": 80,
     "metadata": {},
     "output_type": "execute_result"
    }
   ],
   "source": [
    "thislist = [\"banana\", \"Orange\", \"Kiwi\", \"cherry\"]\n",
    "thislist.sort()\n",
    "thislist\n",
    "\n",
    "# By default the sort() method is case sensitive, resulting in all capital letters being sorted before lower case letters:\n",
    "#  In Unicode, uppercase letters have lower numerical values than lowercase letters, so when sorting,all uppercase letters (like 'A', 'B', 'C') appear before lowercase letters (like 'a', 'b', 'c').\n",
    "# For example, the Unicode value for 'A' is 65, while 'a' is 97.  "
   ]
  },
  {
   "cell_type": "code",
   "execution_count": 92,
   "id": "0f1a40fe-f452-4801-b915-1d694117fc62",
   "metadata": {},
   "outputs": [
    {
     "data": {
      "text/plain": [
       "['friday', 'Monday', 'Saturday', 'sunday', 'thursday', 'tuesday', 'Wednesday']"
      ]
     },
     "execution_count": 92,
     "metadata": {},
     "output_type": "execute_result"
    }
   ],
   "source": [
    "week = ['sunday', 'Monday', 'tuesday', 'Wednesday', 'thursday','friday','Saturday']\n",
    "week.sort(key = str.lower)\n",
    "week\n",
    "\n",
    "# str.lower  gives the case-sensitive sort function"
   ]
  },
  {
   "cell_type": "code",
   "execution_count": 95,
   "id": "acce2ef6-ebdb-4cbf-885a-67ba063cd61f",
   "metadata": {},
   "outputs": [
    {
     "data": {
      "text/plain": [
       "['Saturday', 'friday', 'thursday', 'Wednesday', 'tuesday', 'Monday', 'sunday']"
      ]
     },
     "execution_count": 95,
     "metadata": {},
     "output_type": "execute_result"
    }
   ],
   "source": [
    "week = ['sunday', 'Monday', 'tuesday', 'Wednesday', 'thursday','friday','Saturday']\n",
    "week.reverse()\n",
    "week\n",
    "\n",
    "# reverse function simply reverse the current sorting regardless aplhabet"
   ]
  },
  {
   "cell_type": "code",
   "execution_count": 98,
   "id": "d650701a-d3ff-4c74-9cde-e24d9617d834",
   "metadata": {},
   "outputs": [
    {
     "name": "stdout",
     "output_type": "stream",
     "text": [
      "['sunday', 'Monday', 'tuesday', 'Wednesday', 'thursday', 'friday', 'Saturday']\n"
     ]
    }
   ],
   "source": [
    "week = ['sunday', 'Monday', 'tuesday', 'Wednesday', 'thursday','friday','Saturday']\n",
    "list_week = week.copy()\n",
    "print(list_week)\n",
    "\n",
    "# copying list using copy() method "
   ]
  },
  {
   "cell_type": "code",
   "execution_count": 102,
   "id": "cc15ab06-4ddf-4dbd-a2ef-dba059876fb4",
   "metadata": {},
   "outputs": [
    {
     "name": "stdout",
     "output_type": "stream",
     "text": [
      "['sunday', 'Monday', 'tuesday', 'Wednesday', 'thursday', 'friday', 'Saturday']\n"
     ]
    }
   ],
   "source": [
    "week = ['sunday', 'Monday', 'tuesday', 'Wednesday', 'thursday','friday','Saturday']\n",
    "list_week = list(week)\n",
    "print(list_week)\n",
    "\n",
    "# copying list using list() method"
   ]
  },
  {
   "cell_type": "code",
   "execution_count": 103,
   "id": "a7566903-4f7e-466c-a9a1-fc1e60057f2b",
   "metadata": {},
   "outputs": [
    {
     "name": "stdout",
     "output_type": "stream",
     "text": [
      "['sunday', 'Monday', 'tuesday', 'Wednesday', 'thursday', 'friday', 'Saturday']\n"
     ]
    }
   ],
   "source": [
    "week = ['sunday', 'Monday', 'tuesday', 'Wednesday', 'thursday','friday','Saturday']\n",
    "list_week = week[:]\n",
    "print(list_week)\n",
    "\n",
    "# copying list using : method"
   ]
  },
  {
   "cell_type": "code",
   "execution_count": 105,
   "id": "950b9778-a209-4feb-8d51-6f0295f7ee3a",
   "metadata": {},
   "outputs": [
    {
     "name": "stdout",
     "output_type": "stream",
     "text": [
      "[1, 2, 3, 4, 5, 'a', 'b', 'c']\n"
     ]
    }
   ],
   "source": [
    "list1 = [1,2,3,4,5]\n",
    "list2 = ['a', 'b', 'c']\n",
    "list3 = list1 + list2\n",
    "print(list3)\n",
    "\n",
    "# we can simply concatinate the list using + operator"
   ]
  },
  {
   "cell_type": "code",
   "execution_count": 110,
   "id": "466cde09-c74d-46ef-89bb-7fef67c0d725",
   "metadata": {},
   "outputs": [
    {
     "name": "stdout",
     "output_type": "stream",
     "text": [
      "[1, 2, 3, 4, 5, 'a', 'b', 'c']\n"
     ]
    }
   ],
   "source": [
    "list1 = [1, 2, 3, 4, 5]\n",
    "list2 = ['a', 'b', 'c']\n",
    "for x in list2:\n",
    "    list1.append(x)\n",
    "print(list1)\n",
    "\n",
    "# Another way to join two lists is by appending all the items from list2 into list1, one by one:"
   ]
  },
  {
   "cell_type": "code",
   "execution_count": 115,
   "id": "b15ea96b-dfba-431a-ba27-531c67698340",
   "metadata": {},
   "outputs": [
    {
     "name": "stdout",
     "output_type": "stream",
     "text": [
      "['a', 'b', 'c', 1, 2, 3]\n"
     ]
    }
   ],
   "source": [
    "list1 = [\"a\", \"b\" , \"c\"]\n",
    "list2 = [1, 2, 3]\n",
    "list1.extend(list2)\n",
    "print(list1)"
   ]
  },
  {
   "cell_type": "code",
   "execution_count": 117,
   "id": "61de66a2-2526-4638-9d11-9484c954df34",
   "metadata": {},
   "outputs": [
    {
     "data": {
      "text/plain": [
       "['a', 'b', 'c', 1, 2, 3, 4, 5]"
      ]
     },
     "execution_count": 117,
     "metadata": {},
     "output_type": "execute_result"
    }
   ],
   "source": [
    "list1 = ['a', 'b', 'c']\n",
    "list2 = [1,2,3,4,5]\n",
    "\n",
    "list1.extend(list2)\n",
    "list1\n",
    "\n",
    "# use extend() method to add list2 in the end of the list1"
   ]
  },
  {
   "cell_type": "code",
   "execution_count": 123,
   "id": "bc57f5a4-c091-4dc8-93da-6651ca675a37",
   "metadata": {},
   "outputs": [
    {
     "data": {
      "text/plain": [
       "[]"
      ]
     },
     "execution_count": 123,
     "metadata": {},
     "output_type": "execute_result"
    }
   ],
   "source": [
    "list1 = ['a', 'b', 'c']\n",
    "list1.clear()\n",
    "list1\n",
    "\n",
    "# clear() method is used for clearing list"
   ]
  },
  {
   "cell_type": "code",
   "execution_count": 125,
   "id": "f54edc6f-cd8a-4079-8f41-0433d3769af6",
   "metadata": {},
   "outputs": [
    {
     "data": {
      "text/plain": [
       "' Some of the list methods\\nappend()\\tAdds an element at the end of the list\\nclear()\\tRemoves all the elements from the list\\ncopy()\\tReturns a copy of the list\\ncount()\\tReturns the number of elements with the specified value\\nextend()\\tAdd the elements of a list (or any iterable), to the end of the current list\\nindex()\\tReturns the index of the first element with the specified value\\ninsert()\\tAdds an element at the specified position\\npop()\\tRemoves the element at the specified position\\nremove()\\tRemoves the item with the specified value\\nreverse()\\tReverses the order of the list\\nsort()\\tSorts the list \\n'"
      ]
     },
     "execution_count": 125,
     "metadata": {},
     "output_type": "execute_result"
    }
   ],
   "source": [
    "''' Some of the list methods\n",
    "append()\tAdds an element at the end of the list\n",
    "clear()\tRemoves all the elements from the list\n",
    "copy()\tReturns a copy of the list\n",
    "count()\tReturns the number of elements with the specified value\n",
    "extend()\tAdd the elements of a list (or any iterable), to the end of the current list\n",
    "index()\tReturns the index of the first element with the specified value\n",
    "insert()\tAdds an element at the specified position\n",
    "pop()\tRemoves the element at the specified position\n",
    "remove()\tRemoves the item with the specified value\n",
    "reverse()\tReverses the order of the list\n",
    "sort()\tSorts the list \n",
    "'''\n"
   ]
  },
  {
   "cell_type": "code",
   "execution_count": 127,
   "id": "48ea7cc5-9f73-41b2-a5be-2c629ce80b4a",
   "metadata": {},
   "outputs": [
    {
     "name": "stdout",
     "output_type": "stream",
     "text": [
      "['apple', 'kiwi', 'mango', 'cherry']\n"
     ]
    }
   ],
   "source": [
    "mylist = ['apple', 'banana', 'cherry']\n",
    "mylist[1:2] = ['kiwi', 'mango']\n",
    "print(mylist)"
   ]
  },
  {
   "cell_type": "code",
   "execution_count": 129,
   "id": "f1120a6a-d26f-4886-b8d4-8b723df6aca3",
   "metadata": {},
   "outputs": [
    {
     "name": "stdout",
     "output_type": "stream",
     "text": [
      "['apple', 'cherry']\n"
     ]
    }
   ],
   "source": [
    "mylist = ['apple', 'banana', 'cherry']\n",
    "mylist.pop(1)\n",
    "print(mylist)"
   ]
  },
  {
   "cell_type": "code",
   "execution_count": 1,
   "id": "22efafc2-293a-4157-9b8b-2bf793a55289",
   "metadata": {},
   "outputs": [
    {
     "name": "stdout",
     "output_type": "stream",
     "text": [
      "x is greater than 5\n"
     ]
    }
   ],
   "source": [
    "x = 7\n",
    "if x > 5:\n",
    "    print('x is greater than 5')"
   ]
  },
  {
   "cell_type": "code",
   "execution_count": 5,
   "id": "e3e38a7d-36b4-416e-8829-9fc59f6a63ce",
   "metadata": {},
   "outputs": [
    {
     "name": "stdout",
     "output_type": "stream",
     "text": [
      "x is equal to 1\n"
     ]
    }
   ],
   "source": [
    "x = 1\n",
    "if x > 5:\n",
    "    print('x is greater than 5')\n",
    "elif x >= 2:\n",
    "    print('x is equal or greater than 5')\n",
    "else:\n",
    "    print('x is equal to 1')"
   ]
  },
  {
   "cell_type": "code",
   "execution_count": 11,
   "id": "5132080c-58bd-43ad-b303-1857e08084ac",
   "metadata": {},
   "outputs": [
    {
     "name": "stdout",
     "output_type": "stream",
     "text": [
      "x is equal to 3\n"
     ]
    }
   ],
   "source": [
    "x = 3\n",
    "if x == 3: print(\"x is equal to 3\") \n",
    "# if code block in one line"
   ]
  },
  {
   "cell_type": "code",
   "execution_count": 13,
   "id": "a6ab42be-2660-4ef9-a170-60052270c491",
   "metadata": {},
   "outputs": [
    {
     "name": "stdout",
     "output_type": "stream",
     "text": [
      "x is eqal to 2\n"
     ]
    }
   ],
   "source": [
    "x = 2 \n",
    "print('x is eqal to 2') if x == 2 else print('x is not equal to 2')"
   ]
  },
  {
   "cell_type": "code",
   "execution_count": 17,
   "id": "86c62b68-e1dc-4829-888d-fc88408fcf17",
   "metadata": {},
   "outputs": [
    {
     "name": "stdout",
     "output_type": "stream",
     "text": [
      "x is greater than 10\n",
      "and it is greater than 30 as well\n"
     ]
    }
   ],
   "source": [
    "x = 35\n",
    "if x > 10:\n",
    "    print(\"x is greater than 10\")\n",
    "    if x < 30:\n",
    "        print(\"but it is less than 30\")\n",
    "    else:\n",
    "        print(\"and it is greater than 30 as well\")\n",
    "\n",
    "# you can put if statements inside if statements, "
   ]
  },
  {
   "cell_type": "code",
   "execution_count": 1,
   "id": "e47d168a-7676-49e2-ae91-7b7379b28028",
   "metadata": {},
   "outputs": [
    {
     "name": "stdin",
     "output_type": "stream",
     "text": [
      "Enter your age:  20\n"
     ]
    },
    {
     "name": "stdout",
     "output_type": "stream",
     "text": [
      "User can vote\n"
     ]
    }
   ],
   "source": [
    "age = int(input(\"Enter your age: \"))\n",
    "\n",
    "if age > 18:\n",
    "    print('User can vote')\n",
    "elif age < 18:\n",
    "    print(\"User can't vote\")\n",
    "elif age == 18:\n",
    "    print('User gets citizenship to vote')"
   ]
  },
  {
   "cell_type": "code",
   "execution_count": 15,
   "id": "dc92d09e-304a-45f9-9b2d-5fe601f92133",
   "metadata": {},
   "outputs": [
    {
     "name": "stdin",
     "output_type": "stream",
     "text": [
      "Enter your age:  21\n"
     ]
    },
    {
     "name": "stdout",
     "output_type": "stream",
     "text": [
      "Age is 21\n"
     ]
    }
   ],
   "source": [
    "\n",
    "age = int(input(\"Enter your age: \"))\n",
    "print(\"Age is\", age)\n"
   ]
  },
  {
   "cell_type": "markdown",
   "id": "4956132e-55dc-41f1-9501-091c4e8b0a53",
   "metadata": {},
   "source": [
    "## Nested Loop "
   ]
  },
  {
   "cell_type": "code",
   "execution_count": 6,
   "id": "85061ca4-8e05-4bfd-a63b-56f2ae4f8c95",
   "metadata": {},
   "outputs": [
    {
     "name": "stdout",
     "output_type": "stream",
     "text": [
      "red chair\n",
      "red table\n",
      "red house\n",
      "black chair\n",
      "black table\n",
      "black house\n",
      "white chair\n",
      "white table\n",
      "white house\n"
     ]
    }
   ],
   "source": [
    "colors = ['red','black','white']\n",
    "objects = ['chair','table','house']\n",
    "\n",
    "for i in colors:\n",
    "    for j in objects:\n",
    "\n",
    "        print(i,j)\n"
   ]
  },
  {
   "cell_type": "code",
   "execution_count": 8,
   "id": "d31ecf3a-41d1-4048-92bf-777429c05219",
   "metadata": {},
   "outputs": [
    {
     "name": "stdout",
     "output_type": "stream",
     "text": [
      "1\n",
      "2\n",
      "3\n",
      "4\n",
      "5\n",
      "6\n",
      "7\n",
      "8\n",
      "9\n",
      "10\n",
      "2\n",
      "4\n",
      "6\n",
      "8\n",
      "10\n",
      "12\n",
      "14\n",
      "16\n",
      "18\n",
      "20\n",
      "3\n",
      "6\n",
      "9\n",
      "12\n",
      "15\n",
      "18\n",
      "21\n",
      "24\n",
      "27\n",
      "30\n",
      "4\n",
      "8\n",
      "12\n",
      "16\n",
      "20\n",
      "24\n",
      "28\n",
      "32\n",
      "36\n",
      "40\n",
      "5\n",
      "10\n",
      "15\n",
      "20\n",
      "25\n",
      "30\n",
      "35\n",
      "40\n",
      "45\n",
      "50\n"
     ]
    }
   ],
   "source": [
    "for i in range(1,6):\n",
    "    for j in range(1,11):\n",
    "        print(i*j)\n",
    "        "
   ]
  },
  {
   "cell_type": "markdown",
   "id": "5de78ceb-f6a6-4b3d-aa3a-3a99508c3f30",
   "metadata": {},
   "source": [
    "## Python functions "
   ]
  },
  {
   "cell_type": "code",
   "execution_count": 19,
   "id": "d6f769a1-de91-4558-96a1-76c29354e17e",
   "metadata": {},
   "outputs": [
    {
     "data": {
      "text/plain": [
       "10"
      ]
     },
     "execution_count": 19,
     "metadata": {},
     "output_type": "execute_result"
    }
   ],
   "source": [
    "def add(x,y):\n",
    "    return x+y\n",
    "\n",
    "add(5,5)"
   ]
  },
  {
   "cell_type": "code",
   "execution_count": 22,
   "id": "4680d075-9614-4318-a354-335f5529abb4",
   "metadata": {},
   "outputs": [
    {
     "ename": "TypeError",
     "evalue": "add() takes 2 positional arguments but 3 were given",
     "output_type": "error",
     "traceback": [
      "\u001b[1;31m---------------------------------------------------------------------------\u001b[0m",
      "\u001b[1;31mTypeError\u001b[0m                                 Traceback (most recent call last)",
      "Cell \u001b[1;32mIn[22], line 4\u001b[0m\n\u001b[0;32m      1\u001b[0m \u001b[38;5;28;01mdef\u001b[39;00m \u001b[38;5;21madd\u001b[39m(x,y):\n\u001b[0;32m      2\u001b[0m     \u001b[38;5;28;01mreturn\u001b[39;00m x\u001b[38;5;241m+\u001b[39my\n\u001b[1;32m----> 4\u001b[0m \u001b[43madd\u001b[49m\u001b[43m(\u001b[49m\u001b[38;5;241;43m5\u001b[39;49m\u001b[43m,\u001b[49m\u001b[38;5;241;43m5\u001b[39;49m\u001b[43m,\u001b[49m\u001b[38;5;241;43m5\u001b[39;49m\u001b[43m)\u001b[49m\n",
      "\u001b[1;31mTypeError\u001b[0m: add() takes 2 positional arguments but 3 were given"
     ]
    }
   ],
   "source": [
    "def add(x,y):\n",
    "    return x+y\n",
    "\n",
    "add(5,5,5)"
   ]
  },
  {
   "cell_type": "code",
   "execution_count": 24,
   "id": "df6f3755-1867-42af-9282-04e810899018",
   "metadata": {},
   "outputs": [
    {
     "ename": "TypeError",
     "evalue": "add() missing 1 required positional argument: 'y'",
     "output_type": "error",
     "traceback": [
      "\u001b[1;31m---------------------------------------------------------------------------\u001b[0m",
      "\u001b[1;31mTypeError\u001b[0m                                 Traceback (most recent call last)",
      "Cell \u001b[1;32mIn[24], line 1\u001b[0m\n\u001b[1;32m----> 1\u001b[0m \u001b[43madd\u001b[49m\u001b[43m(\u001b[49m\u001b[38;5;241;43m5\u001b[39;49m\u001b[43m)\u001b[49m\n",
      "\u001b[1;31mTypeError\u001b[0m: add() missing 1 required positional argument: 'y'"
     ]
    }
   ],
   "source": [
    "add(5)"
   ]
  },
  {
   "cell_type": "code",
   "execution_count": 28,
   "id": "e4bc1d09-8f5b-4624-b85a-0f3a8a13e7ae",
   "metadata": {},
   "outputs": [
    {
     "data": {
      "text/plain": [
       "1"
      ]
     },
     "execution_count": 28,
     "metadata": {},
     "output_type": "execute_result"
    }
   ],
   "source": [
    "def add(*nums):\n",
    "    sum = 0\n",
    "    for i in nums:\n",
    "        sum += i\n",
    "        return sum\n",
    "\n",
    "add(1,2,3,23)"
   ]
  },
  {
   "cell_type": "code",
   "execution_count": 34,
   "id": "93968ac5-1e7d-4265-9c0e-3b4937fa5ca0",
   "metadata": {},
   "outputs": [
    {
     "data": {
      "text/plain": [
       "25"
      ]
     },
     "execution_count": 34,
     "metadata": {},
     "output_type": "execute_result"
    }
   ],
   "source": [
    "def mul(x, y = 5):\n",
    "    return x*y\n",
    "\n",
    "mul(5)"
   ]
  },
  {
   "cell_type": "code",
   "execution_count": 38,
   "id": "914d14f6-5022-4b91-8a96-1e4a53abac90",
   "metadata": {},
   "outputs": [
    {
     "data": {
      "text/plain": [
       "30"
      ]
     },
     "execution_count": 38,
     "metadata": {},
     "output_type": "execute_result"
    }
   ],
   "source": [
    "mul(5,6)"
   ]
  },
  {
   "cell_type": "code",
   "execution_count": 40,
   "id": "8308cf6b-56dc-4fb1-aff2-a12fc24a6b0e",
   "metadata": {},
   "outputs": [
    {
     "ename": "SyntaxError",
     "evalue": "parameter without a default follows parameter with a default (517784540.py, line 1)",
     "output_type": "error",
     "traceback": [
      "\u001b[1;36m  Cell \u001b[1;32mIn[40], line 1\u001b[1;36m\u001b[0m\n\u001b[1;33m    def sub(x=3, y):\u001b[0m\n\u001b[1;37m                 ^\u001b[0m\n\u001b[1;31mSyntaxError\u001b[0m\u001b[1;31m:\u001b[0m parameter without a default follows parameter with a default\n"
     ]
    }
   ],
   "source": [
    "def sub(x=3, y):\n",
    "    return x-y\n",
    "\n",
    "sub(4)"
   ]
  },
  {
   "cell_type": "code",
   "execution_count": 42,
   "id": "d52b4a87-ce3d-41b9-874d-979007953b1b",
   "metadata": {},
   "outputs": [
    {
     "data": {
      "text/plain": [
       "-1"
      ]
     },
     "execution_count": 42,
     "metadata": {},
     "output_type": "execute_result"
    }
   ],
   "source": [
    "def sub(x, y=5):\n",
    "    return x-y\n",
    "\n",
    "sub(4)"
   ]
  },
  {
   "cell_type": "code",
   "execution_count": 46,
   "id": "3afb1630-c169-4b7a-b174-273c37a33f99",
   "metadata": {},
   "outputs": [
    {
     "data": {
      "text/plain": [
       "15"
      ]
     },
     "execution_count": 46,
     "metadata": {},
     "output_type": "execute_result"
    }
   ],
   "source": [
    "# Lambda functions \n",
    "sum = lambda x,y,z:x+y+z\n",
    "\n",
    "sum(5,5,5)"
   ]
  },
  {
   "cell_type": "code",
   "execution_count": 52,
   "id": "a8b208c8-07d9-4913-ae08-62b73500f8bb",
   "metadata": {},
   "outputs": [
    {
     "ename": "TypeError",
     "evalue": "'tuple' object does not support item assignment",
     "output_type": "error",
     "traceback": [
      "\u001b[1;31m---------------------------------------------------------------------------\u001b[0m",
      "\u001b[1;31mTypeError\u001b[0m                                 Traceback (most recent call last)",
      "Cell \u001b[1;32mIn[52], line 3\u001b[0m\n\u001b[0;32m      1\u001b[0m \u001b[38;5;66;03m# Python Tuples\u001b[39;00m\n\u001b[0;32m      2\u001b[0m test \u001b[38;5;241m=\u001b[39m (\u001b[38;5;241m1\u001b[39m,\u001b[38;5;241m2\u001b[39m,\u001b[38;5;241m3\u001b[39m)\n\u001b[1;32m----> 3\u001b[0m \u001b[43mtest\u001b[49m\u001b[43m[\u001b[49m\u001b[38;5;241;43m0\u001b[39;49m\u001b[43m]\u001b[49m \u001b[38;5;241m=\u001b[39m \u001b[38;5;241m5\u001b[39m\n\u001b[0;32m      5\u001b[0m test\n",
      "\u001b[1;31mTypeError\u001b[0m: 'tuple' object does not support item assignment"
     ]
    }
   ],
   "source": [
    "# Python Tuples\n",
    "test = (1,2,3)\n",
    "test[0] = 5\n",
    "\n",
    "test\n"
   ]
  },
  {
   "cell_type": "code",
   "execution_count": 54,
   "id": "65709755-ef3c-4789-9e81-e2f177fdd5e4",
   "metadata": {},
   "outputs": [
    {
     "data": {
      "text/plain": [
       "(1, 2, 3, 1, 2, 3, 1, 2, 3)"
      ]
     },
     "execution_count": 54,
     "metadata": {},
     "output_type": "execute_result"
    }
   ],
   "source": [
    "(1,2,3) * 3"
   ]
  },
  {
   "cell_type": "code",
   "execution_count": 58,
   "id": "17717ea9-4e78-4a73-a7d2-374b48975c88",
   "metadata": {},
   "outputs": [
    {
     "data": {
      "text/plain": [
       "{1, 2, 'false', 'hello', 'there'}"
      ]
     },
     "execution_count": 58,
     "metadata": {},
     "output_type": "execute_result"
    }
   ],
   "source": [
    "# python sets\n",
    "# sets are unordered\n",
    "\n",
    "set = { 1, 2, \"hello\", \"false\", \"there\"}\n",
    "set\n"
   ]
  },
  {
   "cell_type": "code",
   "execution_count": 76,
   "id": "aa514090-fc92-4545-a223-200b755d07c5",
   "metadata": {},
   "outputs": [
    {
     "name": "stdout",
     "output_type": "stream",
     "text": [
      "{'Kathmandu': 2000, 'Chitwan': 500, 'pokhara': 1000}\n"
     ]
    }
   ],
   "source": [
    "## python dictionaries \n",
    "# Dictionaries are used to store data values in key:value pairs.\n",
    "\n",
    "city_pop = {\n",
    "    \"Kathmandu\":2000,\n",
    "    \"Chitwan\":500,\n",
    "    \"pokhara\":1000\n",
    "}\n",
    "print(city_pop)"
   ]
  },
  {
   "cell_type": "code",
   "execution_count": 64,
   "id": "2a955078-ff26-482e-a58a-8c8de37f2aa0",
   "metadata": {},
   "outputs": [
    {
     "ename": "KeyError",
     "evalue": "0",
     "output_type": "error",
     "traceback": [
      "\u001b[1;31m---------------------------------------------------------------------------\u001b[0m",
      "\u001b[1;31mKeyError\u001b[0m                                  Traceback (most recent call last)",
      "Cell \u001b[1;32mIn[64], line 1\u001b[0m\n\u001b[1;32m----> 1\u001b[0m \u001b[43mcity_pop\u001b[49m\u001b[43m[\u001b[49m\u001b[38;5;241;43m0\u001b[39;49m\u001b[43m]\u001b[49m\n",
      "\u001b[1;31mKeyError\u001b[0m: 0"
     ]
    }
   ],
   "source": [
    "city_pop[0]"
   ]
  },
  {
   "cell_type": "code",
   "execution_count": 68,
   "id": "c6c466b1-d80a-47c1-b1a2-f9e5e0c68012",
   "metadata": {},
   "outputs": [
    {
     "data": {
      "text/plain": [
       "2000"
      ]
     },
     "execution_count": 68,
     "metadata": {},
     "output_type": "execute_result"
    }
   ],
   "source": [
    "city_pop['Kathmandu']"
   ]
  },
  {
   "cell_type": "code",
   "execution_count": 70,
   "id": "18b24d71-b4f3-42bc-b86b-2c9219508005",
   "metadata": {},
   "outputs": [
    {
     "data": {
      "text/plain": [
       "dict_keys(['Kathmandu', 'Chitwan', 'pokhara'])"
      ]
     },
     "execution_count": 70,
     "metadata": {},
     "output_type": "execute_result"
    }
   ],
   "source": [
    "city_pop.keys()"
   ]
  },
  {
   "cell_type": "code",
   "execution_count": 72,
   "id": "b34f6bd5-44f3-4f28-a783-7cd3831f3fd9",
   "metadata": {},
   "outputs": [
    {
     "data": {
      "text/plain": [
       "dict_values([2000, 500, 1000])"
      ]
     },
     "execution_count": 72,
     "metadata": {},
     "output_type": "execute_result"
    }
   ],
   "source": [
    "city_pop.values()"
   ]
  },
  {
   "cell_type": "code",
   "execution_count": 74,
   "id": "d79f7eda-8101-4aae-90e2-ae1de1fc4811",
   "metadata": {},
   "outputs": [
    {
     "data": {
      "text/plain": [
       "dict_items([('Kathmandu', 2000), ('Chitwan', 500), ('pokhara', 1000)])"
      ]
     },
     "execution_count": 74,
     "metadata": {},
     "output_type": "execute_result"
    }
   ],
   "source": [
    "city_pop.items()"
   ]
  },
  {
   "cell_type": "code",
   "execution_count": 78,
   "id": "c76253eb-546e-4a09-89e4-4280594047c5",
   "metadata": {},
   "outputs": [
    {
     "data": {
      "text/plain": [
       "True"
      ]
     },
     "execution_count": 78,
     "metadata": {},
     "output_type": "execute_result"
    }
   ],
   "source": [
    "\"pokhara\" in city_pop"
   ]
  },
  {
   "cell_type": "code",
   "execution_count": 80,
   "id": "b322ef11-bdff-4fbb-a98c-03e14cf997f3",
   "metadata": {},
   "outputs": [
    {
     "data": {
      "text/plain": [
       "False"
      ]
     },
     "execution_count": 80,
     "metadata": {},
     "output_type": "execute_result"
    }
   ],
   "source": [
    "\"butwal\" in city_pop"
   ]
  },
  {
   "cell_type": "code",
   "execution_count": 88,
   "id": "57cae66a-7b00-49e3-96e5-0c3f918327d2",
   "metadata": {},
   "outputs": [
    {
     "data": {
      "text/plain": [
       "{'Kathmandu': 2000, 'Chitwan': 800, 'pokhara': 1000, 'chitwan': 800}"
      ]
     },
     "execution_count": 88,
     "metadata": {},
     "output_type": "execute_result"
    }
   ],
   "source": [
    "city_pop['Chitwan']=800\n",
    "city_pop"
   ]
  },
  {
   "cell_type": "code",
   "execution_count": 90,
   "id": "0cafe008-987b-4aa2-a33c-529899fce95b",
   "metadata": {},
   "outputs": [
    {
     "data": {
      "text/plain": [
       "{'Kathmandu': 2000, 'Chitwan': 900, 'pokhara': 1000, 'chitwan': 800}"
      ]
     },
     "execution_count": 90,
     "metadata": {},
     "output_type": "execute_result"
    }
   ],
   "source": [
    "city_pop.update({'Chitwan':900})\n",
    "city_pop"
   ]
  },
  {
   "cell_type": "code",
   "execution_count": 94,
   "id": "a64b3a75-8ad6-49ee-93c7-acb19f1da23f",
   "metadata": {},
   "outputs": [
    {
     "data": {
      "text/plain": [
       "{'Kathmandu': 2000, 'Chitwan': 900, 'pokhara': 1000}"
      ]
     },
     "execution_count": 94,
     "metadata": {},
     "output_type": "execute_result"
    }
   ],
   "source": [
    "city_pop.pop('chitwan')\n",
    "city_pop"
   ]
  },
  {
   "cell_type": "code",
   "execution_count": 98,
   "id": "ca743db6-82a1-49c0-a91b-c3870b4b8199",
   "metadata": {},
   "outputs": [
    {
     "data": {
      "text/plain": [
       "{}"
      ]
     },
     "execution_count": 98,
     "metadata": {},
     "output_type": "execute_result"
    }
   ],
   "source": [
    "city_pop.clear()\n",
    "city_pop\n",
    "\n",
    "# .clear() deletes all the items which is in dectionaries"
   ]
  },
  {
   "cell_type": "markdown",
   "id": "c8431cb0-c6c2-40a3-a24c-90775b03cd9e",
   "metadata": {},
   "source": [
    "## OOP in python"
   ]
  },
  {
   "cell_type": "code",
   "execution_count": 118,
   "id": "22fb2e0b-2f5c-4b4d-9cb1-b5ce9399e404",
   "metadata": {},
   "outputs": [],
   "source": [
    "# class and objects \n",
    "\n",
    "class Student:\n",
    "    school = \"School of Data Science\"\n",
    "    "
   ]
  },
  {
   "cell_type": "code",
   "execution_count": 120,
   "id": "d7fd65b2-0ec9-4f59-a476-4fb70b11d34b",
   "metadata": {},
   "outputs": [
    {
     "name": "stdout",
     "output_type": "stream",
     "text": [
      "<class '__main__.Student'>\n",
      "School of Data Science\n"
     ]
    }
   ],
   "source": [
    "s1 = Student()\n",
    "s2 = Student()\n",
    "print(type(s1))\n",
    "print(s2.school)\n",
    "\n",
    "# s1 and s2 are the objets of class Students "
   ]
  },
  {
   "cell_type": "code",
   "execution_count": 124,
   "id": "54150cd1-43e2-4668-a95c-cfcff5e08a3a",
   "metadata": {},
   "outputs": [
    {
     "name": "stdout",
     "output_type": "stream",
     "text": [
      "Dinesh\n",
      "22\n"
     ]
    }
   ],
   "source": [
    "class Person:\n",
    "    def __init__(self, name, age):\n",
    "        self.name = name\n",
    "        self.age = age\n",
    "\n",
    "p1 = Person(\"Dinesh\", 22)\n",
    "print(p1.name)\n",
    "print(p1.age)"
   ]
  },
  {
   "cell_type": "code",
   "execution_count": 142,
   "id": "6fbd7f0e-19e6-4ce8-9e0f-a1eaef294ab7",
   "metadata": {},
   "outputs": [
    {
     "name": "stdout",
     "output_type": "stream",
     "text": [
      "The name is Dinesh and age is 22\n"
     ]
    }
   ],
   "source": [
    "class Person:\n",
    "    def __init__(self, name, age):\n",
    "        self.name = name\n",
    "        self.age = age\n",
    "\n",
    "    def __str__(self):\n",
    "        return 'The name is {} and age is {}'.format(self.name, self.age)\n",
    "\n",
    "person1 = Person(\"Dinesh\", 22)\n",
    "print(person1)\n"
   ]
  },
  {
   "cell_type": "markdown",
   "id": "7737c3e1-6f57-40d2-a577-a4a2eda82736",
   "metadata": {},
   "source": [
    "## Modules "
   ]
  },
  {
   "cell_type": "code",
   "execution_count": 6,
   "id": "f229f0d3-71ae-4e58-928b-430f04c5fcaa",
   "metadata": {},
   "outputs": [
    {
     "name": "stdout",
     "output_type": "stream",
     "text": [
      "Sum: 15\n",
      "Subtract: 5\n"
     ]
    }
   ],
   "source": [
    "# main.py\n",
    "\n",
    "import simple_math\n",
    "\n",
    "# Using the sum function\n",
    "result_sum = simple_math.sum(10, 5)\n",
    "print(f\"Sum: {result_sum}\")  # Output: Sum: 15\n",
    "\n",
    "# Using the subtract function\n",
    "result_subtract = simple_math.subtract(10, 5)\n",
    "print(f\"Subtract: {result_subtract}\")  # Output: Subtract: 5\n"
   ]
  },
  {
   "cell_type": "code",
   "execution_count": 12,
   "id": "00bceeab-db57-4275-9993-c8f2c69219e0",
   "metadata": {},
   "outputs": [
    {
     "name": "stdout",
     "output_type": "stream",
     "text": [
      "01123581321345589144233377\n"
     ]
    }
   ],
   "source": [
    "from fibo import fib\n",
    "fib(500)"
   ]
  },
  {
   "cell_type": "code",
   "execution_count": 14,
   "id": "8aadf4d7-5ba2-44b8-bd2a-905c2cc71cfa",
   "metadata": {},
   "outputs": [
    {
     "name": "stdout",
     "output_type": "stream",
     "text": [
      "Defaulting to user installation because normal site-packages is not writeable\n",
      "Requirement already satisfied: numpy in c:\\programdata\\anaconda3\\lib\\site-packages (1.26.4)\n",
      "Note: you may need to restart the kernel to use updated packages.\n"
     ]
    }
   ],
   "source": []
  },
  {
   "cell_type": "code",
   "execution_count": null,
   "id": "073f9374-1052-4f37-9121-f008f81e7a35",
   "metadata": {},
   "outputs": [],
   "source": []
  },
  {
   "cell_type": "code",
   "execution_count": null,
   "id": "4e979908-91e6-4952-8574-2666e8347921",
   "metadata": {},
   "outputs": [],
   "source": []
  }
 ],
 "metadata": {
  "kernelspec": {
   "display_name": "Python 3 (ipykernel)",
   "language": "python",
   "name": "python3"
  },
  "language_info": {
   "codemirror_mode": {
    "name": "ipython",
    "version": 3
   },
   "file_extension": ".py",
   "mimetype": "text/x-python",
   "name": "python",
   "nbconvert_exporter": "python",
   "pygments_lexer": "ipython3",
   "version": "3.12.4"
  }
 },
 "nbformat": 4,
 "nbformat_minor": 5
}
