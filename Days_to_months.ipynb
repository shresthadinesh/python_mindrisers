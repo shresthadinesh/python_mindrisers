{
 "cells": [
  {
   "cell_type": "code",
   "execution_count": 39,
   "id": "bb966e2c-fb4a-409e-92f7-68d022673451",
   "metadata": {},
   "outputs": [
    {
     "name": "stdout",
     "output_type": "stream",
     "text": [
      "From 2024-08-01 to 2024-09-05: 1 months\n",
      "From 2024-06-15 to 2024-07-20: 1 months\n",
      "From 2024-01-01 to 2024-02-15: 2 months\n",
      "From 2024-03-01 to 2024-04-10: 1 months\n",
      "From 2024-01-01 to 2024-02-16: 2 months\n",
      "From 2024-01-01 to 2024-01-14: 0 months\n",
      "From 2024-01-01 to 2024-01-20: 1 months\n"
     ]
    }
   ],
   "source": [
    "from datetime import datetime\n",
    "\n",
    "def days_to_months(start_date_str, end_date_str):\n",
    "    # Convert string dates to datetime objects\n",
    "    start_date = datetime.strptime(start_date_str, '%Y-%m-%d')\n",
    "    end_date = datetime.strptime(end_date_str, '%Y-%m-%d')\n",
    "    \n",
    "    # Calculate the difference in days\n",
    "    duration_days = (end_date - start_date).days\n",
    "    \n",
    "    # Calculate the number of months\n",
    "    months = duration_days // 30  # Calculate full months\n",
    "    remaining_days = duration_days % 30  # Calculate remaining days\n",
    "    \n",
    "    if remaining_days >= 15:\n",
    "        months += 1  # Add an extra month if the remaining days are 15 or more\n",
    "    \n",
    "    return months\n",
    "\n",
    "def process_multiple_dates(date_pairs):\n",
    "    results = []\n",
    "    for start_date, end_date in date_pairs:\n",
    "        months = days_to_months(start_date, end_date)\n",
    "        results.append((start_date, end_date, months))\n",
    "    return results\n",
    "\n",
    "# Example usage\n",
    "date_pairs = [\n",
    "    ('2024-08-01', '2024-09-05'),  # 35 days => 1 month\n",
    "    ('2024-06-15', '2024-07-20'),  # 35 days => 1 month\n",
    "    ('2024-01-01', '2024-02-15'),  # 45 days => 1 month\n",
    "    ('2024-03-01', '2024-04-10'),  # 40 days => 1 month\n",
    "    ('2024-01-01', '2024-02-16'),  # 46 days => 2 months\n",
    "    ('2024-01-01', '2024-01-14'),  # 13 days => 0 months\n",
    "    ('2024-01-01', '2024-01-20'),  # 19 days => 1 months\n",
    "    \n",
    "]\n",
    "\n",
    "results = process_multiple_dates(date_pairs)\n",
    "for start_date, end_date, months in results:\n",
    "    print(f'From {start_date} to {end_date}: {months} months')\n"
   ]
  },
  {
   "cell_type": "code",
   "execution_count": 71,
   "id": "04695571-434b-45c3-944e-0eb90a5c985c",
   "metadata": {},
   "outputs": [
    {
     "name": "stdout",
     "output_type": "stream",
     "text": [
      "Start Date    datetime64[ns]\n",
      "End Date      datetime64[ns]\n",
      "dtype: object\n",
      "Processing complete. Results saved to 'output_file.xlsx'.\n"
     ]
    }
   ],
   "source": [
    "import pandas as pd\n",
    "from datetime import datetime\n",
    "\n",
    "def days_to_months(start_date, end_date):\n",
    "    if pd.isna(start_date) or pd.isna(end_date):\n",
    "        return None  # Handle missing dates\n",
    "    \n",
    "    # Calculate the difference in days directly\n",
    "    duration_days = (end_date - start_date).days\n",
    "    \n",
    "    # If the total difference is less than 15 days, return 0 months\n",
    "    if duration_days < 15:\n",
    "        return 0\n",
    "    \n",
    "    # Calculate the number of months\n",
    "    months = duration_days // 30  # Calculate full months\n",
    "    remaining_days = duration_days % 30  # Calculate remaining days\n",
    "    \n",
    "    # If remaining days are 15 or more, add an extra month\n",
    "    if remaining_days >= 15:\n",
    "        months += 1\n",
    "    \n",
    "    return months\n",
    "\n",
    "# Load the Excel file into a DataFrame\n",
    "df = pd.read_excel('Book1.xlsx')\n",
    "\n",
    "# Convert columns to datetime\n",
    "df['Start Date'] = pd.to_datetime(df['Start Date'], errors='coerce')\n",
    "df['End Date'] = pd.to_datetime(df['End Date'], errors='coerce')\n",
    "\n",
    "# Print column types to confirm they are datetime\n",
    "print(df.dtypes)\n",
    "\n",
    "# Apply the function to each row in the DataFrame\n",
    "df['Months'] = df.apply(lambda row: days_to_months(row['Start Date'], row['End Date']), axis=1)\n",
    "\n",
    "# Save the updated DataFrame back to an Excel file\n",
    "df.to_excel('output_file.xlsx', index=False)\n",
    "\n",
    "print(\"Processing complete. Results saved to 'output_file.xlsx'.\")\n"
   ]
  },
  {
   "cell_type": "code",
   "execution_count": null,
   "id": "150860dc-dd40-440c-b48d-ee264cc8e8fd",
   "metadata": {},
   "outputs": [],
   "source": []
  }
 ],
 "metadata": {
  "kernelspec": {
   "display_name": "Python 3 (ipykernel)",
   "language": "python",
   "name": "python3"
  },
  "language_info": {
   "codemirror_mode": {
    "name": "ipython",
    "version": 3
   },
   "file_extension": ".py",
   "mimetype": "text/x-python",
   "name": "python",
   "nbconvert_exporter": "python",
   "pygments_lexer": "ipython3",
   "version": "3.12.4"
  },
  "widgets": {
   "application/vnd.jupyter.widget-state+json": {
    "state": {},
    "version_major": 2,
    "version_minor": 0
   }
  }
 },
 "nbformat": 4,
 "nbformat_minor": 5
}
